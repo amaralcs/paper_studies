{
 "cells": [
  {
   "cell_type": "code",
   "execution_count": 30,
   "metadata": {},
   "outputs": [],
   "source": [
    "import pandas as pd\n",
    "import numpy as np\n",
    "import matplotlib.pyplot as plt\n",
    "import matplotlib.cm as cmap\n",
    "import scipy.stats as stats\n",
    "from statsmodels.distributions.empirical_distribution import ECDF\n",
    "\n",
    "%matplotlib inline\n",
    "plt.style.use('dark_background')"
   ]
  },
  {
   "cell_type": "markdown",
   "metadata": {},
   "source": [
    "## About:\n",
    "This notebook explores the methods used in the paper by Omari et al. to fit a statistical distribution to car insurance severity from a dataset available online.\n",
    "\n",
    "It was my intention to replicate the study using python, but unfortunately the datasets used in the paper are not available outside of R. Instead I used a dataset posted on a public forum as a basis for this study.\n",
    "\n",
    "Link to Paper: https://www.researchgate.net/publication/323379447_Modeling_the_Frequency_and_Severity_of_Auto_Insurance_Claims_Using_Statistical_Distributions\n",
    "\n",
    "Link to post containing dataset (used Emcien data): https://opendata.stackexchange.com/questions/7807/where-can-i-find-automobile-insurance-claims-data-set"
   ]
  },
  {
   "cell_type": "markdown",
   "metadata": {},
   "source": [
    "### Initial Data Analysis"
   ]
  },
  {
   "cell_type": "code",
   "execution_count": 31,
   "metadata": {},
   "outputs": [],
   "source": [
    "auto_claims = pd.read_csv('Auto_Insurance_Claims_Sample.csv')"
   ]
  },
  {
   "cell_type": "code",
   "execution_count": 32,
   "metadata": {},
   "outputs": [
    {
     "name": "stdout",
     "output_type": "stream",
     "text": [
      "<class 'pandas.core.frame.DataFrame'>\n",
      "RangeIndex: 9134 entries, 0 to 9133\n",
      "Data columns (total 26 columns):\n",
      "Customer                         9134 non-null object\n",
      "Country                          9134 non-null object\n",
      "State Code                       9134 non-null object\n",
      "State                            9134 non-null object\n",
      "Claim Amount                     9134 non-null float64\n",
      "Response                         9134 non-null object\n",
      "Coverage                         9134 non-null object\n",
      "Education                        9134 non-null object\n",
      "Effective To Date                9134 non-null object\n",
      "EmploymentStatus                 9134 non-null object\n",
      "Gender                           9134 non-null object\n",
      "Income                           9134 non-null int64\n",
      "Location Code                    9134 non-null object\n",
      "Marital Status                   9134 non-null object\n",
      "Monthly Premium Auto             9134 non-null int64\n",
      "Months Since Last Claim          9134 non-null int64\n",
      "Months Since Policy Inception    9134 non-null int64\n",
      "Number of Open Complaints        9134 non-null int64\n",
      "Number of Policies               9134 non-null int64\n",
      "Policy Type                      9134 non-null object\n",
      "Policy                           9134 non-null object\n",
      "Claim Reason                     9134 non-null object\n",
      "Sales Channel                    9134 non-null object\n",
      "Total Claim Amount               9134 non-null float64\n",
      "Vehicle Class                    9134 non-null object\n",
      "Vehicle Size                     9134 non-null object\n",
      "dtypes: float64(2), int64(6), object(18)\n",
      "memory usage: 1.8+ MB\n"
     ]
    }
   ],
   "source": [
    "auto_claims.info()"
   ]
  },
  {
   "cell_type": "markdown",
   "metadata": {},
   "source": [
    "No null entries in the data"
   ]
  },
  {
   "cell_type": "code",
   "execution_count": 33,
   "metadata": {},
   "outputs": [
    {
     "data": {
      "text/plain": [
       "<matplotlib.axes._subplots.AxesSubplot at 0x7f488d5ba0f0>"
      ]
     },
     "execution_count": 33,
     "metadata": {},
     "output_type": "execute_result"
    },
    {
     "data": {
      "image/png": "[encoded data removed]",
      "text/plain": [
       "<Figure size 432x288 with 1 Axes>"
      ]
     },
     "metadata": {},
     "output_type": "display_data"
    }
   ],
   "source": [
    "auto_claims['claim_amount_diff'] = auto_claims['Total Claim Amount'] - auto_claims['Claim Amount']\n",
    "auto_claims['claim_amount_diff'].hist()"
   ]
  },
  {
   "cell_type": "markdown",
   "metadata": {},
   "source": [
    "Curiously the Total Claim amount differs from the Claim amount in various cases. Why does this happen? I'll put this aside for now and perhaps come back to it later"
   ]
  },
  {
   "cell_type": "markdown",
   "metadata": {},
   "source": [
    "Without someone who knows about the data is hard to know why it happens. I'll work using Claim Amount for this study"
   ]
  },
  {
   "cell_type": "code",
   "execution_count": 34,
   "metadata": {},
   "outputs": [
    {
     "data": {
      "text/plain": [
       "<matplotlib.axes._subplots.AxesSubplot at 0x7f488d648588>"
      ]
     },
     "execution_count": 34,
     "metadata": {},
     "output_type": "execute_result"
    },
    {
     "data": {
      "image/png": "[encoded data removed]",
      "text/plain": [
       "<Figure size 432x288 with 1 Axes>"
      ]
     },
     "metadata": {},
     "output_type": "display_data"
    }
   ],
   "source": [
    "auto_claims['Claim Amount'].hist()"
   ]
  },
  {
   "cell_type": "markdown",
   "metadata": {},
   "source": [
    "Claim amount distribution is right-skewed as expected"
   ]
  },
  {
   "cell_type": "code",
   "execution_count": 35,
   "metadata": {},
   "outputs": [],
   "source": [
    "severity = auto_claims['Claim Amount'].to_numpy()"
   ]
  },
  {
   "cell_type": "code",
   "execution_count": 10,
   "metadata": {},
   "outputs": [],
   "source": [
    "severity_stats = {\n",
    "    'count' :  len(severity),\n",
    "    'min' : severity.min(),\n",
    "    'max' : severity.max(),\n",
    "    'mean' : severity.mean(),\n",
    "    'median' : np.median(severity),\n",
    "    'std' : np.std(severity),\n",
    "    'skewness' : stats.skew(severity),\n",
    "    'kurtosis' : stats.kurtosis(severity),\n",
    "}"
   ]
  },
  {
   "cell_type": "code",
   "execution_count": 11,
   "metadata": {},
   "outputs": [
    {
     "name": "stdout",
     "output_type": "stream",
     "text": [
      "count      9134\n",
      "min        189.8007675\n",
      "max        8332.538118999999\n",
      "mean       800.4940474987081\n",
      "median     578.0182197\n",
      "std        687.0591477654132\n",
      "skewness   3.031782271327885\n",
      "kurtosis   13.815310695287437\n"
     ]
    }
   ],
   "source": [
    "for stat, val in severity_stats.items():\n",
    "    print(stat.ljust(10), str(val).rjust(3))"
   ]
  },
  {
   "cell_type": "markdown",
   "metadata": {},
   "source": [
    "As the original data is heavily skewed, let's take the log of the severity values"
   ]
  },
  {
   "cell_type": "code",
   "execution_count": 12,
   "metadata": {},
   "outputs": [
    {
     "data": {
      "image/png": "[encoded data removed]",
      "text/plain": [
       "<Figure size 432x288 with 1 Axes>"
      ]
     },
     "metadata": {},
     "output_type": "display_data"
    }
   ],
   "source": [
    "log_severity = np.log(severity)\n",
    "\n",
    "plt.hist(log_severity)\n",
    "plt.show()"
   ]
  },
  {
   "cell_type": "markdown",
   "metadata": {},
   "source": [
    "It looks like we the log of the data is more likely to be fit to a distribution than the original values.\n",
    "\n",
    "For an experiment, let's also take the log of log_severity"
   ]
  },
  {
   "cell_type": "code",
   "execution_count": 13,
   "metadata": {},
   "outputs": [
    {
     "data": {
      "image/png": "[encoded data removed]",
      "text/plain": [
       "<Figure size 432x288 with 1 Axes>"
      ]
     },
     "metadata": {},
     "output_type": "display_data"
    }
   ],
   "source": [
    "log_log_severity = np.log(log_severity)\n",
    "\n",
    "plt.hist(log_log_severity)\n",
    "plt.show()"
   ]
  },
  {
   "cell_type": "markdown",
   "metadata": {},
   "source": [
    "### Fit Distributions\n",
    "Distributions to test:\n",
    "* Exponential\n",
    "* Gamma\n",
    "* lognormal\n",
    "* Weibull\n",
    "* Pareto"
   ]
  },
  {
   "cell_type": "code",
   "execution_count": 100,
   "metadata": {},
   "outputs": [],
   "source": [
    "distributions = ['expon', 'gamma', 'lognorm', 'pareto', 'weibull_min']\n",
    "cm = cmap.get_cmap('Dark2' ,len(distributions))\n",
    "colors = cm(range(len(distributions)))"
   ]
  },
  {
   "cell_type": "markdown",
   "metadata": {},
   "source": [
    "*Note:* The fit method of the distributions uses MLE to estimate the parameter"
   ]
  },
  {
   "cell_type": "code",
   "execution_count": 101,
   "metadata": {},
   "outputs": [],
   "source": [
    "def fit_plot_distributions(dataset, title, distributions=distributions):\n",
    "    fig, (cdf_ax, pdf_ax) = plt.subplots(figsize=(14,6), nrows=1, ncols=2)\n",
    "    x_min, x_max = dataset.min(), dataset.max()\n",
    "    x = np.linspace(x_min, x_max, 100)\n",
    "    \n",
    "    pdf_ax.hist(dataset, color='r', density=True, alpha=0.3)\n",
    "    \n",
    "    ecdf = ECDF(dataset)\n",
    "    cdf_ax.plot(ecdf.x, ecdf.y, c='r', label=title)\n",
    "    \n",
    "    fitted = {}\n",
    "    for name,color in zip(distributions, colors):\n",
    "        dist = getattr(stats, name)\n",
    "        params = dist.fit(dataset)\n",
    "        frozen_dist = dist(*params)\n",
    "        fitted[name] = frozen_dist\n",
    "        cdf_ax.plot(x, frozen_dist.cdf(x), c=color, label=name)\n",
    "        pdf_ax.plot(x, frozen_dist.pdf(x), c=color ,label=name)\n",
    "    \n",
    "    pdf_ax.set_ylabel('pdf')\n",
    "    pdf_ax.set_title(f'Distribution fits for {title}')\n",
    "    pdf_ax.legend(loc='best', frameon=False)    \n",
    "    \n",
    "    cdf_ax.set_ylabel('cdf')\n",
    "    cdf_ax.set_title(f'Empirical CDF for {title}')\n",
    "    cdf_ax.legend(loc='best', frameon=False)\n",
    "    \n",
    "    plt.show()\n",
    "    return fitted"
   ]
  },
  {
   "cell_type": "code",
   "execution_count": 102,
   "metadata": {},
   "outputs": [
    {
     "data": {
      "image/png": "[encoded data removed]",
      "text/plain": [
       "<Figure size 1008x432 with 2 Axes>"
      ]
     },
     "metadata": {},
     "output_type": "display_data"
    }
   ],
   "source": [
    "log_sev_dists = fit_plot_distributions(log_severity, 'log_severity')"
   ]
  },
  {
   "cell_type": "markdown",
   "metadata": {},
   "source": [
    "For log_severity, gamma, lognorm and weibull_min are good fits."
   ]
  },
  {
   "cell_type": "code",
   "execution_count": 104,
   "metadata": {},
   "outputs": [
    {
     "data": {
      "image/png": "[encoded data removed]",
      "text/plain": [
       "<Figure size 1008x432 with 2 Axes>"
      ]
     },
     "metadata": {},
     "output_type": "display_data"
    }
   ],
   "source": [
    "log_log_sev_dists = fit_plot_distributions(log_log_severity, 'log_log_severity')"
   ]
  },
  {
   "cell_type": "markdown",
   "metadata": {},
   "source": [
    "for log_log_severity, gamma and lognorm are better fits"
   ]
  },
  {
   "cell_type": "markdown",
   "metadata": {},
   "source": [
    "### Information Criteria"
   ]
  },
  {
   "cell_type": "markdown",
   "metadata": {},
   "source": [
    "Interesting article on AIC: www.r-bloggers.com/how-do-i-interpret-the-aic"
   ]
  },
  {
   "cell_type": "markdown",
   "metadata": {},
   "source": [
    "Recall that the log likelihood function for a parameter $\\theta$ is \n",
    "$$ l(\\theta) = \\sum_{i=1}^{n}\\ln{f(x_i|\\theta)} $$\n",
    "Hence we can use *stats.logpdf* to calculate the loglikelihood of each point in our dataset and use this value to calculate the Akaike Information Criterion (*k=* # of parameters in the distribution)\n",
    "$$ \\text{AIC} = 2k - 2l(\\theta) $$\n",
    "Finally, the model with smallest AIC is the one that best fits the data"
   ]
  },
  {
   "cell_type": "markdown",
   "metadata": {},
   "source": [
    "And the BIC is defined as\n",
    "$$ \\text{BIC} = k\\ln(n) - 2l(\\theta) $$\n",
    "Where n is the number of observations in the sample. Again lowest values of BIC are better"
   ]
  },
  {
   "cell_type": "code",
   "execution_count": 105,
   "metadata": {},
   "outputs": [],
   "source": [
    "def llf(distribution, dataset):\n",
    "    return np.sum(distribution.logpdf(dataset))\n",
    "\n",
    "def k_parameters(distribution):\n",
    "    return len(distribution.args)\n",
    "\n",
    "def aic(distribution, dataset):\n",
    "    return 2*k_parameters(distribution) -2*llf(distribution, dataset)\n",
    "\n",
    "def bic(distribution, dataset):\n",
    "    return k_parameters(distribution)*np.log(len(dataset)) -2*llf(distribution, dataset)\n",
    "\n",
    "def create_parameter_df(distribution_dict, dataset):\n",
    "    params = {'llf':[] ,'aic':[], 'bic':[]}\n",
    "    idx = []\n",
    "    for name, dist in distribution_dict.items():\n",
    "        params['llf'].append(llf(dist, dataset))\n",
    "        params['aic'].append(aic(dist, dataset))\n",
    "        params['bic'].append(bic(dist, dataset))\n",
    "        idx.append(name)\n",
    "    return pd.DataFrame(params, index=idx)"
   ]
  },
  {
   "cell_type": "markdown",
   "metadata": {
    "cell_style": "split"
   },
   "source": [
    "log(severity)"
   ]
  },
  {
   "cell_type": "markdown",
   "metadata": {
    "cell_style": "split"
   },
   "source": [
    "log(log(severity))"
   ]
  },
  {
   "cell_type": "code",
   "execution_count": 106,
   "metadata": {
    "cell_style": "split"
   },
   "outputs": [
    {
     "data": {
      "text/html": [
       "<div>\n",
       "<style scoped>\n",
       "    .dataframe tbody tr th:only-of-type {\n",
       "        vertical-align: middle;\n",
       "    }\n",
       "\n",
       "    .dataframe tbody tr th {\n",
       "        vertical-align: top;\n",
       "    }\n",
       "\n",
       "    .dataframe thead th {\n",
       "        text-align: right;\n",
       "    }\n",
       "</style>\n",
       "<table border=\"1\" class=\"dataframe\">\n",
       "  <thead>\n",
       "    <tr style=\"text-align: right;\">\n",
       "      <th></th>\n",
       "      <th>llf</th>\n",
       "      <th>aic</th>\n",
       "      <th>bic</th>\n",
       "    </tr>\n",
       "  </thead>\n",
       "  <tbody>\n",
       "    <tr>\n",
       "      <th>pareto</th>\n",
       "      <td>-11449.996807</td>\n",
       "      <td>22905.993614</td>\n",
       "      <td>22927.352891</td>\n",
       "    </tr>\n",
       "    <tr>\n",
       "      <th>expon</th>\n",
       "      <td>-10799.338493</td>\n",
       "      <td>21602.676986</td>\n",
       "      <td>21616.916504</td>\n",
       "    </tr>\n",
       "    <tr>\n",
       "      <th>lognorm</th>\n",
       "      <td>-8723.971622</td>\n",
       "      <td>17453.943244</td>\n",
       "      <td>17475.302521</td>\n",
       "    </tr>\n",
       "    <tr>\n",
       "      <th>gamma</th>\n",
       "      <td>-8667.003337</td>\n",
       "      <td>17340.006673</td>\n",
       "      <td>17361.365950</td>\n",
       "    </tr>\n",
       "    <tr>\n",
       "      <th>weibull_min</th>\n",
       "      <td>-8538.372495</td>\n",
       "      <td>17082.744989</td>\n",
       "      <td>17104.104266</td>\n",
       "    </tr>\n",
       "  </tbody>\n",
       "</table>\n",
       "</div>"
      ],
      "text/plain": [
       "                      llf           aic           bic\n",
       "pareto      -11449.996807  22905.993614  22927.352891\n",
       "expon       -10799.338493  21602.676986  21616.916504\n",
       "lognorm      -8723.971622  17453.943244  17475.302521\n",
       "gamma        -8667.003337  17340.006673  17361.365950\n",
       "weibull_min  -8538.372495  17082.744989  17104.104266"
      ]
     },
     "execution_count": 106,
     "metadata": {},
     "output_type": "execute_result"
    }
   ],
   "source": [
    "# Table with results for log_severity\n",
    "(create_parameter_df(log_sev_dists, log_severity)\n",
    "     .sort_values(['aic', 'bic'], ascending=False))"
   ]
  },
  {
   "cell_type": "code",
   "execution_count": 107,
   "metadata": {
    "cell_style": "split",
    "scrolled": true
   },
   "outputs": [
    {
     "data": {
      "text/html": [
       "<div>\n",
       "<style scoped>\n",
       "    .dataframe tbody tr th:only-of-type {\n",
       "        vertical-align: middle;\n",
       "    }\n",
       "\n",
       "    .dataframe tbody tr th {\n",
       "        vertical-align: top;\n",
       "    }\n",
       "\n",
       "    .dataframe thead th {\n",
       "        text-align: right;\n",
       "    }\n",
       "</style>\n",
       "<table border=\"1\" class=\"dataframe\">\n",
       "  <thead>\n",
       "    <tr style=\"text-align: right;\">\n",
       "      <th></th>\n",
       "      <th>llf</th>\n",
       "      <th>aic</th>\n",
       "      <th>bic</th>\n",
       "    </tr>\n",
       "  </thead>\n",
       "  <tbody>\n",
       "    <tr>\n",
       "      <th>pareto</th>\n",
       "      <td>5137.952146</td>\n",
       "      <td>-10269.904293</td>\n",
       "      <td>-10248.545016</td>\n",
       "    </tr>\n",
       "    <tr>\n",
       "      <th>expon</th>\n",
       "      <td>5521.412625</td>\n",
       "      <td>-11038.825250</td>\n",
       "      <td>-11024.585732</td>\n",
       "    </tr>\n",
       "    <tr>\n",
       "      <th>lognorm</th>\n",
       "      <td>8236.129404</td>\n",
       "      <td>-16466.258807</td>\n",
       "      <td>-16444.899530</td>\n",
       "    </tr>\n",
       "    <tr>\n",
       "      <th>gamma</th>\n",
       "      <td>8255.375075</td>\n",
       "      <td>-16504.750149</td>\n",
       "      <td>-16483.390872</td>\n",
       "    </tr>\n",
       "    <tr>\n",
       "      <th>weibull_min</th>\n",
       "      <td>8404.643497</td>\n",
       "      <td>-16803.286994</td>\n",
       "      <td>-16781.927717</td>\n",
       "    </tr>\n",
       "  </tbody>\n",
       "</table>\n",
       "</div>"
      ],
      "text/plain": [
       "                     llf           aic           bic\n",
       "pareto       5137.952146 -10269.904293 -10248.545016\n",
       "expon        5521.412625 -11038.825250 -11024.585732\n",
       "lognorm      8236.129404 -16466.258807 -16444.899530\n",
       "gamma        8255.375075 -16504.750149 -16483.390872\n",
       "weibull_min  8404.643497 -16803.286994 -16781.927717"
      ]
     },
     "execution_count": 107,
     "metadata": {},
     "output_type": "execute_result"
    }
   ],
   "source": [
    "# Table with results for log_log_severity\n",
    "(create_parameter_df(log_log_sev_dists, log_log_severity)\n",
    "     .sort_values(['aic', 'bic'], ascending=False))"
   ]
  },
  {
   "cell_type": "markdown",
   "metadata": {},
   "source": [
    "### Goodness of fit tests"
   ]
  },
  {
   "cell_type": "markdown",
   "metadata": {},
   "source": [
    "We'll start by stating the hypotheses\n",
    "$$ \\text{H}_0: \\text{The claims data sample follow a given distribution}$$\n",
    "$$ \\text{H}_1: \\text{The claims data sample does not follow the given distribution}$$"
   ]
  },
  {
   "cell_type": "markdown",
   "metadata": {},
   "source": [
    "#### Kolmogorov-Smirnov test\n",
    "The K-S test compares an empirical distribution against a given distribution based on their CDFs as the CDF uniquely characterizes a distribution (PDF is obtained by differentiating CDF).\n",
    "\n",
    "The test returns a statistic that is equal the largest vertical distance between the empirical and the theoretical distribution."
   ]
  },
  {
   "cell_type": "code",
   "execution_count": 108,
   "metadata": {},
   "outputs": [],
   "source": [
    "from scipy.stats import kstest\n",
    "\n",
    "def get_ks_results(distribution_dict, dataset):\n",
    "    results = {'ks_statistic':[], 'p-value':[]}\n",
    "    idx = []\n",
    "    for name, dist in distribution_dict.items():\n",
    "        idx.append(name)\n",
    "        ks = kstest(dataset, name, args=dist.args)\n",
    "        results['ks_statistic'].append(ks[0])\n",
    "        results['p-value'].append(ks[1])\n",
    "    return pd.DataFrame(results, index=idx)"
   ]
  },
  {
   "cell_type": "markdown",
   "metadata": {
    "cell_style": "split"
   },
   "source": [
    "log(severity)"
   ]
  },
  {
   "cell_type": "markdown",
   "metadata": {
    "cell_style": "split"
   },
   "source": [
    "log(log(severity))"
   ]
  },
  {
   "cell_type": "code",
   "execution_count": 109,
   "metadata": {
    "cell_style": "split"
   },
   "outputs": [
    {
     "data": {
      "text/html": [
       "<div>\n",
       "<style scoped>\n",
       "    .dataframe tbody tr th:only-of-type {\n",
       "        vertical-align: middle;\n",
       "    }\n",
       "\n",
       "    .dataframe tbody tr th {\n",
       "        vertical-align: top;\n",
       "    }\n",
       "\n",
       "    .dataframe thead th {\n",
       "        text-align: right;\n",
       "    }\n",
       "</style>\n",
       "<table border=\"1\" class=\"dataframe\">\n",
       "  <thead>\n",
       "    <tr style=\"text-align: right;\">\n",
       "      <th></th>\n",
       "      <th>ks_statistic</th>\n",
       "      <th>p-value</th>\n",
       "    </tr>\n",
       "  </thead>\n",
       "  <tbody>\n",
       "    <tr>\n",
       "      <th>expon</th>\n",
       "      <td>0.215955</td>\n",
       "      <td>0.000000e+00</td>\n",
       "    </tr>\n",
       "    <tr>\n",
       "      <th>gamma</th>\n",
       "      <td>0.055819</td>\n",
       "      <td>3.819232e-25</td>\n",
       "    </tr>\n",
       "    <tr>\n",
       "      <th>lognorm</th>\n",
       "      <td>0.057427</td>\n",
       "      <td>1.369231e-26</td>\n",
       "    </tr>\n",
       "    <tr>\n",
       "      <th>pareto</th>\n",
       "      <td>0.235643</td>\n",
       "      <td>0.000000e+00</td>\n",
       "    </tr>\n",
       "    <tr>\n",
       "      <th>weibull_min</th>\n",
       "      <td>0.049168</td>\n",
       "      <td>1.323333e-19</td>\n",
       "    </tr>\n",
       "  </tbody>\n",
       "</table>\n",
       "</div>"
      ],
      "text/plain": [
       "             ks_statistic       p-value\n",
       "expon            0.215955  0.000000e+00\n",
       "gamma            0.055819  3.819232e-25\n",
       "lognorm          0.057427  1.369231e-26\n",
       "pareto           0.235643  0.000000e+00\n",
       "weibull_min      0.049168  1.323333e-19"
      ]
     },
     "execution_count": 109,
     "metadata": {},
     "output_type": "execute_result"
    }
   ],
   "source": [
    "get_ks_results(log_sev_dists, log_severity)"
   ]
  },
  {
   "cell_type": "code",
   "execution_count": 110,
   "metadata": {
    "cell_style": "split",
    "scrolled": true
   },
   "outputs": [
    {
     "data": {
      "text/html": [
       "<div>\n",
       "<style scoped>\n",
       "    .dataframe tbody tr th:only-of-type {\n",
       "        vertical-align: middle;\n",
       "    }\n",
       "\n",
       "    .dataframe tbody tr th {\n",
       "        vertical-align: top;\n",
       "    }\n",
       "\n",
       "    .dataframe thead th {\n",
       "        text-align: right;\n",
       "    }\n",
       "</style>\n",
       "<table border=\"1\" class=\"dataframe\">\n",
       "  <thead>\n",
       "    <tr style=\"text-align: right;\">\n",
       "      <th></th>\n",
       "      <th>ks_statistic</th>\n",
       "      <th>p-value</th>\n",
       "    </tr>\n",
       "  </thead>\n",
       "  <tbody>\n",
       "    <tr>\n",
       "      <th>expon</th>\n",
       "      <td>0.235700</td>\n",
       "      <td>0.000000e+00</td>\n",
       "    </tr>\n",
       "    <tr>\n",
       "      <th>gamma</th>\n",
       "      <td>0.057889</td>\n",
       "      <td>5.179531e-27</td>\n",
       "    </tr>\n",
       "    <tr>\n",
       "      <th>lognorm</th>\n",
       "      <td>0.057456</td>\n",
       "      <td>1.290155e-26</td>\n",
       "    </tr>\n",
       "    <tr>\n",
       "      <th>pareto</th>\n",
       "      <td>0.245890</td>\n",
       "      <td>0.000000e+00</td>\n",
       "    </tr>\n",
       "    <tr>\n",
       "      <th>weibull_min</th>\n",
       "      <td>0.054177</td>\n",
       "      <td>1.034831e-23</td>\n",
       "    </tr>\n",
       "  </tbody>\n",
       "</table>\n",
       "</div>"
      ],
      "text/plain": [
       "             ks_statistic       p-value\n",
       "expon            0.235700  0.000000e+00\n",
       "gamma            0.057889  5.179531e-27\n",
       "lognorm          0.057456  1.290155e-26\n",
       "pareto           0.245890  0.000000e+00\n",
       "weibull_min      0.054177  1.034831e-23"
      ]
     },
     "execution_count": 110,
     "metadata": {},
     "output_type": "execute_result"
    }
   ],
   "source": [
    "get_ks_results(log_log_sev_dists, log_log_severity)"
   ]
  },
  {
   "cell_type": "markdown",
   "metadata": {},
   "source": [
    "*Note:* The p-value for the exponential and pareto distributions yielded zero as their actual value fell out of range of floating point precision.\n",
    "\n",
    "As all of the p-values are very small, we can reject the null hypothesis and conclude that the sample claims severity data does not come from any of the distributions above."
   ]
  },
  {
   "cell_type": "markdown",
   "metadata": {},
   "source": [
    "#### Anderson-Darling test\n",
    "Tests whether a sample of data is drawn from a given probability distribution\n",
    "\n",
    "**IMPORTANT NOTE:** At the time of writing, SciPy can only perform A-D test of a given distribution against the following distributions: normal, exponential, logistic, or Gumbel. \n",
    "Thus the test below is actually testing for normality and it is not meaningful for comparing the presented distributions for GoF. I only leave the results below for educative purposes."
   ]
  },
  {
   "cell_type": "code",
   "execution_count": 111,
   "metadata": {},
   "outputs": [],
   "source": [
    "from scipy.stats import anderson\n",
    "\n",
    "def get_ad_results(distribution_dict, dataset):\n",
    "    results = {'ad_statistic':[], 'critical_values':[], 'significance':[]}\n",
    "    idx = []\n",
    "    for name, dist in distribution_dict.items():\n",
    "        ad = anderson(dist.rvs(size=len(dataset)), 'norm')\n",
    "        results['ad_statistic'].append(ad[0])\n",
    "        results['critical_values'].append(ad[1])\n",
    "        results['significance'].append(ad[2])\n",
    "        idx.append(name)\n",
    "    return pd.DataFrame(results, index=idx)"
   ]
  },
  {
   "cell_type": "code",
   "execution_count": 112,
   "metadata": {
    "cell_style": "split"
   },
   "outputs": [
    {
     "data": {
      "text/html": [
       "<div>\n",
       "<style scoped>\n",
       "    .dataframe tbody tr th:only-of-type {\n",
       "        vertical-align: middle;\n",
       "    }\n",
       "\n",
       "    .dataframe tbody tr th {\n",
       "        vertical-align: top;\n",
       "    }\n",
       "\n",
       "    .dataframe thead th {\n",
       "        text-align: right;\n",
       "    }\n",
       "</style>\n",
       "<table border=\"1\" class=\"dataframe\">\n",
       "  <thead>\n",
       "    <tr style=\"text-align: right;\">\n",
       "      <th></th>\n",
       "      <th>ad_statistic</th>\n",
       "      <th>critical_values</th>\n",
       "      <th>significance</th>\n",
       "    </tr>\n",
       "  </thead>\n",
       "  <tbody>\n",
       "    <tr>\n",
       "      <th>expon</th>\n",
       "      <td>427.621488</td>\n",
       "      <td>[0.576, 0.656, 0.787, 0.918, 1.092]</td>\n",
       "      <td>[15.0, 10.0, 5.0, 2.5, 1.0]</td>\n",
       "    </tr>\n",
       "    <tr>\n",
       "      <th>gamma</th>\n",
       "      <td>82.872420</td>\n",
       "      <td>[0.576, 0.656, 0.787, 0.918, 1.092]</td>\n",
       "      <td>[15.0, 10.0, 5.0, 2.5, 1.0]</td>\n",
       "    </tr>\n",
       "    <tr>\n",
       "      <th>lognorm</th>\n",
       "      <td>73.418783</td>\n",
       "      <td>[0.576, 0.656, 0.787, 0.918, 1.092]</td>\n",
       "      <td>[15.0, 10.0, 5.0, 2.5, 1.0]</td>\n",
       "    </tr>\n",
       "    <tr>\n",
       "      <th>pareto</th>\n",
       "      <td>710.497990</td>\n",
       "      <td>[0.576, 0.656, 0.787, 0.918, 1.092]</td>\n",
       "      <td>[15.0, 10.0, 5.0, 2.5, 1.0]</td>\n",
       "    </tr>\n",
       "    <tr>\n",
       "      <th>weibull_min</th>\n",
       "      <td>61.867255</td>\n",
       "      <td>[0.576, 0.656, 0.787, 0.918, 1.092]</td>\n",
       "      <td>[15.0, 10.0, 5.0, 2.5, 1.0]</td>\n",
       "    </tr>\n",
       "  </tbody>\n",
       "</table>\n",
       "</div>"
      ],
      "text/plain": [
       "             ad_statistic                      critical_values  \\\n",
       "expon          427.621488  [0.576, 0.656, 0.787, 0.918, 1.092]   \n",
       "gamma           82.872420  [0.576, 0.656, 0.787, 0.918, 1.092]   \n",
       "lognorm         73.418783  [0.576, 0.656, 0.787, 0.918, 1.092]   \n",
       "pareto         710.497990  [0.576, 0.656, 0.787, 0.918, 1.092]   \n",
       "weibull_min     61.867255  [0.576, 0.656, 0.787, 0.918, 1.092]   \n",
       "\n",
       "                            significance  \n",
       "expon        [15.0, 10.0, 5.0, 2.5, 1.0]  \n",
       "gamma        [15.0, 10.0, 5.0, 2.5, 1.0]  \n",
       "lognorm      [15.0, 10.0, 5.0, 2.5, 1.0]  \n",
       "pareto       [15.0, 10.0, 5.0, 2.5, 1.0]  \n",
       "weibull_min  [15.0, 10.0, 5.0, 2.5, 1.0]  "
      ]
     },
     "execution_count": 112,
     "metadata": {},
     "output_type": "execute_result"
    }
   ],
   "source": [
    "get_ad_results(log_sev_dists, log_severity)"
   ]
  },
  {
   "cell_type": "code",
   "execution_count": 113,
   "metadata": {
    "cell_style": "split"
   },
   "outputs": [
    {
     "data": {
      "text/html": [
       "<div>\n",
       "<style scoped>\n",
       "    .dataframe tbody tr th:only-of-type {\n",
       "        vertical-align: middle;\n",
       "    }\n",
       "\n",
       "    .dataframe tbody tr th {\n",
       "        vertical-align: top;\n",
       "    }\n",
       "\n",
       "    .dataframe thead th {\n",
       "        text-align: right;\n",
       "    }\n",
       "</style>\n",
       "<table border=\"1\" class=\"dataframe\">\n",
       "  <thead>\n",
       "    <tr style=\"text-align: right;\">\n",
       "      <th></th>\n",
       "      <th>ad_statistic</th>\n",
       "      <th>critical_values</th>\n",
       "      <th>significance</th>\n",
       "    </tr>\n",
       "  </thead>\n",
       "  <tbody>\n",
       "    <tr>\n",
       "      <th>expon</th>\n",
       "      <td>404.138381</td>\n",
       "      <td>[0.576, 0.656, 0.787, 0.918, 1.092]</td>\n",
       "      <td>[15.0, 10.0, 5.0, 2.5, 1.0]</td>\n",
       "    </tr>\n",
       "    <tr>\n",
       "      <th>gamma</th>\n",
       "      <td>32.009292</td>\n",
       "      <td>[0.576, 0.656, 0.787, 0.918, 1.092]</td>\n",
       "      <td>[15.0, 10.0, 5.0, 2.5, 1.0]</td>\n",
       "    </tr>\n",
       "    <tr>\n",
       "      <th>lognorm</th>\n",
       "      <td>22.151468</td>\n",
       "      <td>[0.576, 0.656, 0.787, 0.918, 1.092]</td>\n",
       "      <td>[15.0, 10.0, 5.0, 2.5, 1.0]</td>\n",
       "    </tr>\n",
       "    <tr>\n",
       "      <th>pareto</th>\n",
       "      <td>564.987254</td>\n",
       "      <td>[0.576, 0.656, 0.787, 0.918, 1.092]</td>\n",
       "      <td>[15.0, 10.0, 5.0, 2.5, 1.0]</td>\n",
       "    </tr>\n",
       "    <tr>\n",
       "      <th>weibull_min</th>\n",
       "      <td>38.066495</td>\n",
       "      <td>[0.576, 0.656, 0.787, 0.918, 1.092]</td>\n",
       "      <td>[15.0, 10.0, 5.0, 2.5, 1.0]</td>\n",
       "    </tr>\n",
       "  </tbody>\n",
       "</table>\n",
       "</div>"
      ],
      "text/plain": [
       "             ad_statistic                      critical_values  \\\n",
       "expon          404.138381  [0.576, 0.656, 0.787, 0.918, 1.092]   \n",
       "gamma           32.009292  [0.576, 0.656, 0.787, 0.918, 1.092]   \n",
       "lognorm         22.151468  [0.576, 0.656, 0.787, 0.918, 1.092]   \n",
       "pareto         564.987254  [0.576, 0.656, 0.787, 0.918, 1.092]   \n",
       "weibull_min     38.066495  [0.576, 0.656, 0.787, 0.918, 1.092]   \n",
       "\n",
       "                            significance  \n",
       "expon        [15.0, 10.0, 5.0, 2.5, 1.0]  \n",
       "gamma        [15.0, 10.0, 5.0, 2.5, 1.0]  \n",
       "lognorm      [15.0, 10.0, 5.0, 2.5, 1.0]  \n",
       "pareto       [15.0, 10.0, 5.0, 2.5, 1.0]  \n",
       "weibull_min  [15.0, 10.0, 5.0, 2.5, 1.0]  "
      ]
     },
     "execution_count": 113,
     "metadata": {},
     "output_type": "execute_result"
    }
   ],
   "source": [
    "get_ad_results(log_log_sev_dists, log_log_severity)"
   ]
  },
  {
   "cell_type": "markdown",
   "metadata": {},
   "source": [
    "From scipy's documentation:\n",
    "\n",
    "*If the returned statistic is larger than these critical values then for the corresponding significance level, the null hypothesis that the data come from the chosen distribution can be rejected. The returned statistic is referred to as ‘A2’ in the references.*"
   ]
  },
  {
   "cell_type": "markdown",
   "metadata": {},
   "source": [
    "### Conclusion"
   ]
  },
  {
   "cell_type": "code",
   "execution_count": 116,
   "metadata": {
    "cell_style": "split"
   },
   "outputs": [
    {
     "data": {
      "text/html": [
       "<div>\n",
       "<style scoped>\n",
       "    .dataframe tbody tr th:only-of-type {\n",
       "        vertical-align: middle;\n",
       "    }\n",
       "\n",
       "    .dataframe tbody tr th {\n",
       "        vertical-align: top;\n",
       "    }\n",
       "\n",
       "    .dataframe thead th {\n",
       "        text-align: right;\n",
       "    }\n",
       "</style>\n",
       "<table border=\"1\" class=\"dataframe\">\n",
       "  <thead>\n",
       "    <tr style=\"text-align: right;\">\n",
       "      <th></th>\n",
       "      <th>ks_statistic</th>\n",
       "      <th>p-value</th>\n",
       "    </tr>\n",
       "  </thead>\n",
       "  <tbody>\n",
       "    <tr>\n",
       "      <th>pareto</th>\n",
       "      <td>0.235643</td>\n",
       "      <td>0.000000e+00</td>\n",
       "    </tr>\n",
       "    <tr>\n",
       "      <th>expon</th>\n",
       "      <td>0.215955</td>\n",
       "      <td>0.000000e+00</td>\n",
       "    </tr>\n",
       "    <tr>\n",
       "      <th>lognorm</th>\n",
       "      <td>0.057427</td>\n",
       "      <td>1.369231e-26</td>\n",
       "    </tr>\n",
       "    <tr>\n",
       "      <th>gamma</th>\n",
       "      <td>0.055819</td>\n",
       "      <td>3.819232e-25</td>\n",
       "    </tr>\n",
       "    <tr>\n",
       "      <th>weibull_min</th>\n",
       "      <td>0.049168</td>\n",
       "      <td>1.323333e-19</td>\n",
       "    </tr>\n",
       "  </tbody>\n",
       "</table>\n",
       "</div>"
      ],
      "text/plain": [
       "             ks_statistic       p-value\n",
       "pareto           0.235643  0.000000e+00\n",
       "expon            0.215955  0.000000e+00\n",
       "lognorm          0.057427  1.369231e-26\n",
       "gamma            0.055819  3.819232e-25\n",
       "weibull_min      0.049168  1.323333e-19"
      ]
     },
     "execution_count": 116,
     "metadata": {},
     "output_type": "execute_result"
    }
   ],
   "source": [
    "get_ks_results(log_sev_dists, log_severity).sort_values('ks_statistic', ascending=False)"
   ]
  },
  {
   "cell_type": "code",
   "execution_count": 118,
   "metadata": {
    "cell_style": "split"
   },
   "outputs": [
    {
     "data": {
      "text/html": [
       "<div>\n",
       "<style scoped>\n",
       "    .dataframe tbody tr th:only-of-type {\n",
       "        vertical-align: middle;\n",
       "    }\n",
       "\n",
       "    .dataframe tbody tr th {\n",
       "        vertical-align: top;\n",
       "    }\n",
       "\n",
       "    .dataframe thead th {\n",
       "        text-align: right;\n",
       "    }\n",
       "</style>\n",
       "<table border=\"1\" class=\"dataframe\">\n",
       "  <thead>\n",
       "    <tr style=\"text-align: right;\">\n",
       "      <th></th>\n",
       "      <th>ks_statistic</th>\n",
       "      <th>p-value</th>\n",
       "    </tr>\n",
       "  </thead>\n",
       "  <tbody>\n",
       "    <tr>\n",
       "      <th>pareto</th>\n",
       "      <td>0.245890</td>\n",
       "      <td>0.000000e+00</td>\n",
       "    </tr>\n",
       "    <tr>\n",
       "      <th>expon</th>\n",
       "      <td>0.235700</td>\n",
       "      <td>0.000000e+00</td>\n",
       "    </tr>\n",
       "    <tr>\n",
       "      <th>gamma</th>\n",
       "      <td>0.057889</td>\n",
       "      <td>5.179531e-27</td>\n",
       "    </tr>\n",
       "    <tr>\n",
       "      <th>lognorm</th>\n",
       "      <td>0.057456</td>\n",
       "      <td>1.290155e-26</td>\n",
       "    </tr>\n",
       "    <tr>\n",
       "      <th>weibull_min</th>\n",
       "      <td>0.054177</td>\n",
       "      <td>1.034831e-23</td>\n",
       "    </tr>\n",
       "  </tbody>\n",
       "</table>\n",
       "</div>"
      ],
      "text/plain": [
       "             ks_statistic       p-value\n",
       "pareto           0.245890  0.000000e+00\n",
       "expon            0.235700  0.000000e+00\n",
       "gamma            0.057889  5.179531e-27\n",
       "lognorm          0.057456  1.290155e-26\n",
       "weibull_min      0.054177  1.034831e-23"
      ]
     },
     "execution_count": 118,
     "metadata": {},
     "output_type": "execute_result"
    }
   ],
   "source": [
    "get_ks_results(log_log_sev_dists, log_log_severity).sort_values('ks_statistic', ascending=False)"
   ]
  },
  {
   "cell_type": "markdown",
   "metadata": {},
   "source": [
    "Exponweib is has lowest scores for both KS log_severity and log_log_severity and though both hypotheses tests reject the hypothesis that the data comes from an weibull_min distribution, it is the distribution that has the best fit for our data."
   ]
  },
  {
   "cell_type": "markdown",
   "metadata": {},
   "source": [
    "Next steps:\n",
    "\n",
    "* Suppose we now have an appropriate distribution to fit to our data. How do we translate it  into a forecast for total cost of claims? Or how do we put it in practice?\n",
    "* Once the above is done, can we compare it to a ML model that forecasts total cost of claims?"
   ]
  }
 ],
 "metadata": {
  "kernelspec": {
   "display_name": "Python 3",
   "language": "python",
   "name": "python3"
  },
  "language_info": {
   "codemirror_mode": {
    "name": "ipython",
    "version": 3
   },
   "file_extension": ".py",
   "mimetype": "text/x-python",
   "name": "python",
   "nbconvert_exporter": "python",
   "pygments_lexer": "ipython3",
   "version": "3.6.9"
  },
  "varInspector": {
   "cols": {
    "lenName": 16,
    "lenType": 16,
    "lenVar": 40
   },
   "kernels_config": {
    "python": {
     "delete_cmd_postfix": "",
     "delete_cmd_prefix": "del ",
     "library": "var_list.py",
     "varRefreshCmd": "print(var_dic_list())"
    },
    "r": {
     "delete_cmd_postfix": ") ",
     "delete_cmd_prefix": "rm(",
     "library": "var_list.r",
     "varRefreshCmd": "cat(var_dic_list()) "
    }
   },
   "types_to_exclude": [
    "module",
    "function",
    "builtin_function_or_method",
    "instance",
    "_Feature"
   ],
   "window_display": false
  }
 },
 "nbformat": 4,
 "nbformat_minor": 2
}
