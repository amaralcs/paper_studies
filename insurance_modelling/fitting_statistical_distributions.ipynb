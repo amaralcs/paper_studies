{
 "cells": [
  {
   "cell_type": "code",
   "execution_count": 38,
   "metadata": {},
   "outputs": [],
   "source": [
    "import pandas as pd\n",
    "import numpy as np\n",
    "import warnings\n",
    "import time\n",
    "import matplotlib.pyplot as plt\n",
    "import matplotlib.cm as cmap\n",
    "import scipy.stats as stats\n",
    "from statsmodels.distributions.empirical_distribution import ECDF\n",
    "\n",
    "%matplotlib inline\n",
    "plt.style.use('seaborn')"
   ]
  },
  {
   "cell_type": "markdown",
   "metadata": {},
   "source": [
    "## About:\n",
    "This notebook explores the methods used in the paper by Omari et al. to fit a statistical distribution to car insurance severity from a dataset available online.\n",
    "\n",
    "It was my intention to replicate the study using python, but unfortunately the datasets used in the paper are not available outside of R. Instead I used a dataset posted on a public forum as a basis for this study.\n",
    "\n",
    "Link to Paper: https://www.researchgate.net/publication/323379447_Modeling_the_Frequency_and_Severity_of_Auto_Insurance_Claims_Using_Statistical_Distributions\n",
    "\n",
    "Link to post containing dataset (used Emcien data): https://opendata.stackexchange.com/questions/7807/where-can-i-find-automobile-insurance-claims-data-set"
   ]
  },
  {
   "cell_type": "markdown",
   "metadata": {},
   "source": [
    "### Initial Data Analysis"
   ]
  },
  {
   "cell_type": "code",
   "execution_count": 2,
   "metadata": {},
   "outputs": [],
   "source": [
    "auto_claims = pd.read_csv('Auto_Insurance_Claims_Sample.csv')"
   ]
  },
  {
   "cell_type": "code",
   "execution_count": 3,
   "metadata": {},
   "outputs": [
    {
     "name": "stdout",
     "output_type": "stream",
     "text": [
      "<class 'pandas.core.frame.DataFrame'>\n",
      "RangeIndex: 9134 entries, 0 to 9133\n",
      "Data columns (total 26 columns):\n",
      "Customer                         9134 non-null object\n",
      "Country                          9134 non-null object\n",
      "State Code                       9134 non-null object\n",
      "State                            9134 non-null object\n",
      "Claim Amount                     9134 non-null float64\n",
      "Response                         9134 non-null object\n",
      "Coverage                         9134 non-null object\n",
      "Education                        9134 non-null object\n",
      "Effective To Date                9134 non-null object\n",
      "EmploymentStatus                 9134 non-null object\n",
      "Gender                           9134 non-null object\n",
      "Income                           9134 non-null int64\n",
      "Location Code                    9134 non-null object\n",
      "Marital Status                   9134 non-null object\n",
      "Monthly Premium Auto             9134 non-null int64\n",
      "Months Since Last Claim          9134 non-null int64\n",
      "Months Since Policy Inception    9134 non-null int64\n",
      "Number of Open Complaints        9134 non-null int64\n",
      "Number of Policies               9134 non-null int64\n",
      "Policy Type                      9134 non-null object\n",
      "Policy                           9134 non-null object\n",
      "Claim Reason                     9134 non-null object\n",
      "Sales Channel                    9134 non-null object\n",
      "Total Claim Amount               9134 non-null float64\n",
      "Vehicle Class                    9134 non-null object\n",
      "Vehicle Size                     9134 non-null object\n",
      "dtypes: float64(2), int64(6), object(18)\n",
      "memory usage: 1.8+ MB\n"
     ]
    }
   ],
   "source": [
    "auto_claims.info()"
   ]
  },
  {
   "cell_type": "markdown",
   "metadata": {},
   "source": [
    "No null entries in the data"
   ]
  },
  {
   "cell_type": "code",
   "execution_count": 39,
   "metadata": {},
   "outputs": [
    {
     "data": {
      "text/plain": [
       "<matplotlib.axes._subplots.AxesSubplot at 0x7fd5adaed240>"
      ]
     },
     "execution_count": 39,
     "metadata": {},
     "output_type": "execute_result"
    },
    {
     "data": {
      "image/png": "[encoded data removed]",
      "text/plain": [
       "<Figure size 576x396 with 1 Axes>"
      ]
     },
     "metadata": {},
     "output_type": "display_data"
    }
   ],
   "source": [
    "auto_claims['claim_amount_diff'] = auto_claims['Total Claim Amount'] - auto_claims['Claim Amount']\n",
    "auto_claims['claim_amount_diff'].hist()"
   ]
  },
  {
   "cell_type": "markdown",
   "metadata": {},
   "source": [
    "Curiously the Total Claim amount differs from the Claim amount in various cases. Why does this happen? I'll put this aside for now and perhaps come back to it later"
   ]
  },
  {
   "cell_type": "markdown",
   "metadata": {},
   "source": [
    "Without someone who knows about the data is hard to know why it happens. I'll work using Claim Amount for this study"
   ]
  },
  {
   "cell_type": "code",
   "execution_count": 40,
   "metadata": {},
   "outputs": [
    {
     "data": {
      "text/plain": [
       "<matplotlib.axes._subplots.AxesSubplot at 0x7fd5ad8ea550>"
      ]
     },
     "execution_count": 40,
     "metadata": {},
     "output_type": "execute_result"
    },
    {
     "data": {
      "image/png": "[encoded data removed]",
      "text/plain": [
       "<Figure size 576x396 with 1 Axes>"
      ]
     },
     "metadata": {},
     "output_type": "display_data"
    }
   ],
   "source": [
    "auto_claims['Claim Amount'].hist()"
   ]
  },
  {
   "cell_type": "markdown",
   "metadata": {},
   "source": [
    "Claim amount distribution is right-skewed as expected"
   ]
  },
  {
   "cell_type": "code",
   "execution_count": 41,
   "metadata": {},
   "outputs": [],
   "source": [
    "severity = auto_claims['Claim Amount'].to_numpy()"
   ]
  },
  {
   "cell_type": "code",
   "execution_count": 42,
   "metadata": {},
   "outputs": [],
   "source": [
    "severity_stats = {\n",
    "    'count' :  len(severity),\n",
    "    'min' : severity.min(),\n",
    "    'max' : severity.max(),\n",
    "    'mean' : severity.mean(),\n",
    "    'median' : np.median(severity),\n",
    "    'std' : np.std(severity),\n",
    "    'skewness' : stats.skew(severity),\n",
    "    'kurtosis' : stats.kurtosis(severity),\n",
    "}"
   ]
  },
  {
   "cell_type": "code",
   "execution_count": 43,
   "metadata": {},
   "outputs": [
    {
     "name": "stdout",
     "output_type": "stream",
     "text": [
      "count      9134\n",
      "min        189.8007675\n",
      "max        8332.538118999999\n",
      "mean       800.4940474987081\n",
      "median     578.0182197\n",
      "std        687.0591477654132\n",
      "skewness   3.031782271327885\n",
      "kurtosis   13.815310695287437\n"
     ]
    }
   ],
   "source": [
    "for stat, val in severity_stats.items():\n",
    "    print(stat.ljust(10), str(val).rjust(3))"
   ]
  },
  {
   "cell_type": "markdown",
   "metadata": {},
   "source": [
    "As the original data is heavily skewed, let's take the log of the severity values"
   ]
  },
  {
   "cell_type": "code",
   "execution_count": 44,
   "metadata": {},
   "outputs": [
    {
     "data": {
      "image/png": "[encoded data removed]",
      "text/plain": [
       "<Figure size 576x396 with 1 Axes>"
      ]
     },
     "metadata": {},
     "output_type": "display_data"
    }
   ],
   "source": [
    "log_severity = np.log(severity)\n",
    "\n",
    "plt.hist(log_severity)\n",
    "plt.show()"
   ]
  },
  {
   "cell_type": "markdown",
   "metadata": {},
   "source": [
    "It looks like we the log of the data is more likely to be fit to a distribution than the original values.\n",
    "\n",
    "For an experiment, let's also take the log of log_severity"
   ]
  },
  {
   "cell_type": "code",
   "execution_count": 45,
   "metadata": {},
   "outputs": [
    {
     "data": {
      "image/png": "[encoded data removed]",
      "text/plain": [
       "<Figure size 576x396 with 1 Axes>"
      ]
     },
     "metadata": {},
     "output_type": "display_data"
    }
   ],
   "source": [
    "log_log_severity = np.log(log_severity)\n",
    "\n",
    "plt.hist(log_log_severity)\n",
    "plt.show()"
   ]
  },
  {
   "cell_type": "markdown",
   "metadata": {},
   "source": [
    "### Fit Distributions\n",
    "Distributions to test:\n",
    "* Exponential\n",
    "* Gamma\n",
    "* lognormal\n",
    "* Weibull\n",
    "* Pareto"
   ]
  },
  {
   "cell_type": "code",
   "execution_count": 46,
   "metadata": {},
   "outputs": [],
   "source": [
    "distributions = ['expon', 'gamma', 'lognorm', 'pareto', 'weibull_min']"
   ]
  },
  {
   "cell_type": "markdown",
   "metadata": {},
   "source": [
    "*Note:* The fit method of the distributions uses MLE to estimate the parameter"
   ]
  },
  {
   "cell_type": "code",
   "execution_count": 12,
   "metadata": {},
   "outputs": [],
   "source": [
    "def fit_plot_distributions(dataset, title, distributions=distributions):\n",
    "    fig, (cdf_ax, pdf_ax) = plt.subplots(figsize=(14,6), nrows=1, ncols=2)\n",
    "    x_min, x_max = dataset.min(), dataset.max()\n",
    "    x = np.linspace(x_min, x_max, 100)\n",
    "    cm = cmap.get_cmap('Dark2' ,len(distributions))\n",
    "    colors = cm(range(len(distributions)))\n",
    "    \n",
    "    pdf_ax.hist(dataset, color='r', density=True, alpha=0.3)\n",
    "    \n",
    "    ecdf = ECDF(dataset)\n",
    "    cdf_ax.plot(ecdf.x, ecdf.y, c='r', label=title)\n",
    "    \n",
    "    fitted = {}\n",
    "    for name,color in zip(distributions, colors):\n",
    "        dist = getattr(stats, name)\n",
    "        params = dist.fit(dataset)\n",
    "        frozen_dist = dist(*params)\n",
    "        fitted[name] = frozen_dist\n",
    "        cdf_ax.plot(x, frozen_dist.cdf(x), c=color, label=name)\n",
    "        pdf_ax.plot(x, frozen_dist.pdf(x), c=color ,label=name)\n",
    "    \n",
    "    pdf_ax.set_ylabel('pdf')\n",
    "    pdf_ax.set_title(f'Distribution fits for {title}')\n",
    "    pdf_ax.legend(loc='best', frameon=False)    \n",
    "    \n",
    "    cdf_ax.set_ylabel('cdf')\n",
    "    cdf_ax.set_title(f'Empirical CDF for {title}')\n",
    "    cdf_ax.legend(loc='best', frameon=False)\n",
    "    \n",
    "    plt.show()\n",
    "    return fitted"
   ]
  },
  {
   "cell_type": "code",
   "execution_count": 47,
   "metadata": {},
   "outputs": [
    {
     "name": "stderr",
     "output_type": "stream",
     "text": [
      "/home/carlos/.local/lib/python3.6/site-packages/scipy/stats/_distn_infrastructure.py:2381: RuntimeWarning: invalid value encountered in double_scalars\n",
      "  Lhat = muhat - Shat*mu\n"
     ]
    },
    {
     "data": {
      "image/png": "[encoded data removed]",
      "text/plain": [
       "<Figure size 1008x432 with 2 Axes>"
      ]
     },
     "metadata": {},
     "output_type": "display_data"
    }
   ],
   "source": [
    "log_sev_dists = fit_plot_distributions(log_severity, 'log_severity')"
   ]
  },
  {
   "cell_type": "markdown",
   "metadata": {},
   "source": [
    "For log_severity, gamma, lognorm and weibull_min are good fits."
   ]
  },
  {
   "cell_type": "code",
   "execution_count": 48,
   "metadata": {},
   "outputs": [
    {
     "data": {
      "image/png": "[encoded data removed]",
      "text/plain": [
       "<Figure size 1008x432 with 2 Axes>"
      ]
     },
     "metadata": {},
     "output_type": "display_data"
    }
   ],
   "source": [
    "log_log_sev_dists = fit_plot_distributions(log_log_severity, 'log_log_severity')"
   ]
  },
  {
   "cell_type": "markdown",
   "metadata": {},
   "source": [
    "for log_log_severity, gamma and lognorm are better fits"
   ]
  },
  {
   "cell_type": "markdown",
   "metadata": {},
   "source": [
    "### Information Criteria"
   ]
  },
  {
   "cell_type": "markdown",
   "metadata": {},
   "source": [
    "Interesting article on AIC: www.r-bloggers.com/how-do-i-interpret-the-aic"
   ]
  },
  {
   "cell_type": "markdown",
   "metadata": {},
   "source": [
    "Recall that the log likelihood function for a parameter $\\theta$ is \n",
    "$$ l(\\theta) = \\sum_{i=1}^{n}\\ln{f(x_i|\\theta)} $$\n",
    "Hence we can use *stats.logpdf* to calculate the loglikelihood of each point in our dataset and use this value to calculate the Akaike Information Criterion (*k=* # of parameters in the distribution)\n",
    "$$ \\text{AIC} = 2k - 2l(\\theta) $$\n",
    "Finally, the model with smallest AIC is the one that best fits the data"
   ]
  },
  {
   "cell_type": "markdown",
   "metadata": {},
   "source": [
    "And the BIC is defined as\n",
    "$$ \\text{BIC} = k\\ln(n) - 2l(\\theta) $$\n",
    "Where n is the number of observations in the sample. Again lowest values of BIC are better"
   ]
  },
  {
   "cell_type": "code",
   "execution_count": 15,
   "metadata": {},
   "outputs": [],
   "source": [
    "def llf(distribution, dataset):\n",
    "    return np.sum(distribution.logpdf(dataset))\n",
    "\n",
    "def k_parameters(distribution):\n",
    "    return len(distribution.args)\n",
    "\n",
    "def aic(distribution, dataset):\n",
    "    return 2*k_parameters(distribution) -2*llf(distribution, dataset)\n",
    "\n",
    "def bic(distribution, dataset):\n",
    "    return k_parameters(distribution)*np.log(len(dataset)) -2*llf(distribution, dataset)\n",
    "\n",
    "def create_parameter_df(distribution_dict, dataset):\n",
    "    params = {'llf':[] ,'aic':[], 'bic':[]}\n",
    "    idx = []\n",
    "    for name, dist in distribution_dict.items():\n",
    "        params['llf'].append(llf(dist, dataset))\n",
    "        params['aic'].append(aic(dist, dataset))\n",
    "        params['bic'].append(bic(dist, dataset))\n",
    "        idx.append(name)\n",
    "    return pd.DataFrame(params, index=idx)"
   ]
  },
  {
   "cell_type": "markdown",
   "metadata": {
    "cell_style": "split"
   },
   "source": [
    "log(severity)"
   ]
  },
  {
   "cell_type": "markdown",
   "metadata": {
    "cell_style": "split"
   },
   "source": [
    "log(log(severity))"
   ]
  },
  {
   "cell_type": "code",
   "execution_count": 16,
   "metadata": {
    "cell_style": "split"
   },
   "outputs": [
    {
     "data": {
      "text/html": [
       "<div>\n",
       "<style scoped>\n",
       "    .dataframe tbody tr th:only-of-type {\n",
       "        vertical-align: middle;\n",
       "    }\n",
       "\n",
       "    .dataframe tbody tr th {\n",
       "        vertical-align: top;\n",
       "    }\n",
       "\n",
       "    .dataframe thead th {\n",
       "        text-align: right;\n",
       "    }\n",
       "</style>\n",
       "<table border=\"1\" class=\"dataframe\">\n",
       "  <thead>\n",
       "    <tr style=\"text-align: right;\">\n",
       "      <th></th>\n",
       "      <th>llf</th>\n",
       "      <th>aic</th>\n",
       "      <th>bic</th>\n",
       "    </tr>\n",
       "  </thead>\n",
       "  <tbody>\n",
       "    <tr>\n",
       "      <th>pareto</th>\n",
       "      <td>-11449.996807</td>\n",
       "      <td>22905.993614</td>\n",
       "      <td>22927.352891</td>\n",
       "    </tr>\n",
       "    <tr>\n",
       "      <th>expon</th>\n",
       "      <td>-10799.338493</td>\n",
       "      <td>21602.676986</td>\n",
       "      <td>21616.916504</td>\n",
       "    </tr>\n",
       "    <tr>\n",
       "      <th>lognorm</th>\n",
       "      <td>-8723.971622</td>\n",
       "      <td>17453.943244</td>\n",
       "      <td>17475.302521</td>\n",
       "    </tr>\n",
       "    <tr>\n",
       "      <th>gamma</th>\n",
       "      <td>-8667.003337</td>\n",
       "      <td>17340.006673</td>\n",
       "      <td>17361.365950</td>\n",
       "    </tr>\n",
       "    <tr>\n",
       "      <th>weibull_min</th>\n",
       "      <td>-8538.372495</td>\n",
       "      <td>17082.744989</td>\n",
       "      <td>17104.104266</td>\n",
       "    </tr>\n",
       "  </tbody>\n",
       "</table>\n",
       "</div>"
      ],
      "text/plain": [
       "                      llf           aic           bic\n",
       "pareto      -11449.996807  22905.993614  22927.352891\n",
       "expon       -10799.338493  21602.676986  21616.916504\n",
       "lognorm      -8723.971622  17453.943244  17475.302521\n",
       "gamma        -8667.003337  17340.006673  17361.365950\n",
       "weibull_min  -8538.372495  17082.744989  17104.104266"
      ]
     },
     "execution_count": 16,
     "metadata": {},
     "output_type": "execute_result"
    }
   ],
   "source": [
    "# Table with results for log_severity\n",
    "(create_parameter_df(log_sev_dists, log_severity)\n",
    "     .sort_values(['aic', 'bic'], ascending=False))"
   ]
  },
  {
   "cell_type": "code",
   "execution_count": 17,
   "metadata": {
    "cell_style": "split",
    "scrolled": true
   },
   "outputs": [
    {
     "data": {
      "text/html": [
       "<div>\n",
       "<style scoped>\n",
       "    .dataframe tbody tr th:only-of-type {\n",
       "        vertical-align: middle;\n",
       "    }\n",
       "\n",
       "    .dataframe tbody tr th {\n",
       "        vertical-align: top;\n",
       "    }\n",
       "\n",
       "    .dataframe thead th {\n",
       "        text-align: right;\n",
       "    }\n",
       "</style>\n",
       "<table border=\"1\" class=\"dataframe\">\n",
       "  <thead>\n",
       "    <tr style=\"text-align: right;\">\n",
       "      <th></th>\n",
       "      <th>llf</th>\n",
       "      <th>aic</th>\n",
       "      <th>bic</th>\n",
       "    </tr>\n",
       "  </thead>\n",
       "  <tbody>\n",
       "    <tr>\n",
       "      <th>pareto</th>\n",
       "      <td>5137.952146</td>\n",
       "      <td>-10269.904293</td>\n",
       "      <td>-10248.545016</td>\n",
       "    </tr>\n",
       "    <tr>\n",
       "      <th>expon</th>\n",
       "      <td>5521.412625</td>\n",
       "      <td>-11038.825250</td>\n",
       "      <td>-11024.585732</td>\n",
       "    </tr>\n",
       "    <tr>\n",
       "      <th>lognorm</th>\n",
       "      <td>8236.129404</td>\n",
       "      <td>-16466.258807</td>\n",
       "      <td>-16444.899530</td>\n",
       "    </tr>\n",
       "    <tr>\n",
       "      <th>gamma</th>\n",
       "      <td>8255.375075</td>\n",
       "      <td>-16504.750149</td>\n",
       "      <td>-16483.390872</td>\n",
       "    </tr>\n",
       "    <tr>\n",
       "      <th>weibull_min</th>\n",
       "      <td>8404.643497</td>\n",
       "      <td>-16803.286994</td>\n",
       "      <td>-16781.927717</td>\n",
       "    </tr>\n",
       "  </tbody>\n",
       "</table>\n",
       "</div>"
      ],
      "text/plain": [
       "                     llf           aic           bic\n",
       "pareto       5137.952146 -10269.904293 -10248.545016\n",
       "expon        5521.412625 -11038.825250 -11024.585732\n",
       "lognorm      8236.129404 -16466.258807 -16444.899530\n",
       "gamma        8255.375075 -16504.750149 -16483.390872\n",
       "weibull_min  8404.643497 -16803.286994 -16781.927717"
      ]
     },
     "execution_count": 17,
     "metadata": {},
     "output_type": "execute_result"
    }
   ],
   "source": [
    "# Table with results for log_log_severity\n",
    "(create_parameter_df(log_log_sev_dists, log_log_severity)\n",
    "     .sort_values(['aic', 'bic'], ascending=False))"
   ]
  },
  {
   "cell_type": "markdown",
   "metadata": {},
   "source": [
    "### Goodness of fit tests"
   ]
  },
  {
   "cell_type": "markdown",
   "metadata": {},
   "source": [
    "We'll start by stating the hypotheses\n",
    "$$ \\text{H}_0: \\text{The claims data sample follow a given distribution}$$\n",
    "$$ \\text{H}_1: \\text{The claims data sample does not follow the given distribution}$$"
   ]
  },
  {
   "cell_type": "markdown",
   "metadata": {},
   "source": [
    "#### Kolmogorov-Smirnov test\n",
    "The K-S test compares an empirical distribution against a given distribution based on their CDFs as the CDF uniquely characterizes a distribution (PDF is obtained by differentiating CDF).\n",
    "\n",
    "The test returns a statistic that is equal the largest vertical distance between the empirical and the theoretical distribution."
   ]
  },
  {
   "cell_type": "code",
   "execution_count": 18,
   "metadata": {},
   "outputs": [],
   "source": [
    "from scipy.stats import kstest\n",
    "\n",
    "def get_ks_results(distribution_dict, dataset):\n",
    "    results = {'ks_statistic':[], 'p-value':[]}\n",
    "    idx = []\n",
    "    for name, dist in distribution_dict.items():\n",
    "        idx.append(name)\n",
    "        ks = kstest(dataset, name, args=dist.args)\n",
    "        results['ks_statistic'].append(ks[0])\n",
    "        results['p-value'].append(ks[1])\n",
    "    return pd.DataFrame(results, index=idx)"
   ]
  },
  {
   "cell_type": "markdown",
   "metadata": {
    "cell_style": "split"
   },
   "source": [
    "log(severity)"
   ]
  },
  {
   "cell_type": "markdown",
   "metadata": {
    "cell_style": "split"
   },
   "source": [
    "log(log(severity))"
   ]
  },
  {
   "cell_type": "code",
   "execution_count": 19,
   "metadata": {
    "cell_style": "split"
   },
   "outputs": [
    {
     "data": {
      "text/html": [
       "<div>\n",
       "<style scoped>\n",
       "    .dataframe tbody tr th:only-of-type {\n",
       "        vertical-align: middle;\n",
       "    }\n",
       "\n",
       "    .dataframe tbody tr th {\n",
       "        vertical-align: top;\n",
       "    }\n",
       "\n",
       "    .dataframe thead th {\n",
       "        text-align: right;\n",
       "    }\n",
       "</style>\n",
       "<table border=\"1\" class=\"dataframe\">\n",
       "  <thead>\n",
       "    <tr style=\"text-align: right;\">\n",
       "      <th></th>\n",
       "      <th>ks_statistic</th>\n",
       "      <th>p-value</th>\n",
       "    </tr>\n",
       "  </thead>\n",
       "  <tbody>\n",
       "    <tr>\n",
       "      <th>expon</th>\n",
       "      <td>0.215955</td>\n",
       "      <td>0.000000e+00</td>\n",
       "    </tr>\n",
       "    <tr>\n",
       "      <th>gamma</th>\n",
       "      <td>0.055819</td>\n",
       "      <td>3.819232e-25</td>\n",
       "    </tr>\n",
       "    <tr>\n",
       "      <th>lognorm</th>\n",
       "      <td>0.057427</td>\n",
       "      <td>1.369231e-26</td>\n",
       "    </tr>\n",
       "    <tr>\n",
       "      <th>pareto</th>\n",
       "      <td>0.235643</td>\n",
       "      <td>0.000000e+00</td>\n",
       "    </tr>\n",
       "    <tr>\n",
       "      <th>weibull_min</th>\n",
       "      <td>0.049168</td>\n",
       "      <td>1.323333e-19</td>\n",
       "    </tr>\n",
       "  </tbody>\n",
       "</table>\n",
       "</div>"
      ],
      "text/plain": [
       "             ks_statistic       p-value\n",
       "expon            0.215955  0.000000e+00\n",
       "gamma            0.055819  3.819232e-25\n",
       "lognorm          0.057427  1.369231e-26\n",
       "pareto           0.235643  0.000000e+00\n",
       "weibull_min      0.049168  1.323333e-19"
      ]
     },
     "execution_count": 19,
     "metadata": {},
     "output_type": "execute_result"
    }
   ],
   "source": [
    "get_ks_results(log_sev_dists, log_severity)"
   ]
  },
  {
   "cell_type": "code",
   "execution_count": 20,
   "metadata": {
    "cell_style": "split",
    "scrolled": true
   },
   "outputs": [
    {
     "data": {
      "text/html": [
       "<div>\n",
       "<style scoped>\n",
       "    .dataframe tbody tr th:only-of-type {\n",
       "        vertical-align: middle;\n",
       "    }\n",
       "\n",
       "    .dataframe tbody tr th {\n",
       "        vertical-align: top;\n",
       "    }\n",
       "\n",
       "    .dataframe thead th {\n",
       "        text-align: right;\n",
       "    }\n",
       "</style>\n",
       "<table border=\"1\" class=\"dataframe\">\n",
       "  <thead>\n",
       "    <tr style=\"text-align: right;\">\n",
       "      <th></th>\n",
       "      <th>ks_statistic</th>\n",
       "      <th>p-value</th>\n",
       "    </tr>\n",
       "  </thead>\n",
       "  <tbody>\n",
       "    <tr>\n",
       "      <th>expon</th>\n",
       "      <td>0.235700</td>\n",
       "      <td>0.000000e+00</td>\n",
       "    </tr>\n",
       "    <tr>\n",
       "      <th>gamma</th>\n",
       "      <td>0.057889</td>\n",
       "      <td>5.179531e-27</td>\n",
       "    </tr>\n",
       "    <tr>\n",
       "      <th>lognorm</th>\n",
       "      <td>0.057456</td>\n",
       "      <td>1.290155e-26</td>\n",
       "    </tr>\n",
       "    <tr>\n",
       "      <th>pareto</th>\n",
       "      <td>0.245890</td>\n",
       "      <td>0.000000e+00</td>\n",
       "    </tr>\n",
       "    <tr>\n",
       "      <th>weibull_min</th>\n",
       "      <td>0.054177</td>\n",
       "      <td>1.034831e-23</td>\n",
       "    </tr>\n",
       "  </tbody>\n",
       "</table>\n",
       "</div>"
      ],
      "text/plain": [
       "             ks_statistic       p-value\n",
       "expon            0.235700  0.000000e+00\n",
       "gamma            0.057889  5.179531e-27\n",
       "lognorm          0.057456  1.290155e-26\n",
       "pareto           0.245890  0.000000e+00\n",
       "weibull_min      0.054177  1.034831e-23"
      ]
     },
     "execution_count": 20,
     "metadata": {},
     "output_type": "execute_result"
    }
   ],
   "source": [
    "get_ks_results(log_log_sev_dists, log_log_severity)"
   ]
  },
  {
   "cell_type": "markdown",
   "metadata": {},
   "source": [
    "*Note:* The p-value for the exponential and pareto distributions yielded zero as their actual value fell out of range of floating point precision.\n",
    "\n",
    "As all of the p-values are very small, we can reject the null hypothesis and conclude that the sample claims severity data does not come from any of the distributions above."
   ]
  },
  {
   "cell_type": "markdown",
   "metadata": {},
   "source": [
    "#### Anderson-Darling test\n",
    "Tests whether a sample of data is drawn from a given probability distribution\n",
    "\n",
    "**IMPORTANT NOTE:** At the time of writing, SciPy can only perform A-D test of a given distribution against the following distributions: normal, exponential, logistic, or Gumbel. \n",
    "Thus the test below is actually testing for normality and it is not meaningful for comparing the presented distributions for GoF. I only leave the results below for educative purposes."
   ]
  },
  {
   "cell_type": "code",
   "execution_count": 21,
   "metadata": {},
   "outputs": [],
   "source": [
    "from scipy.stats import anderson\n",
    "\n",
    "def get_ad_results(distribution_dict, dataset):\n",
    "    results = {'ad_statistic':[], 'critical_values':[], 'significance':[]}\n",
    "    idx = []\n",
    "    for name, dist in distribution_dict.items():\n",
    "        ad = anderson(dist.rvs(size=len(dataset)), 'norm')\n",
    "        results['ad_statistic'].append(ad[0])\n",
    "        results['critical_values'].append(ad[1])\n",
    "        results['significance'].append(ad[2])\n",
    "        idx.append(name)\n",
    "    return pd.DataFrame(results, index=idx)"
   ]
  },
  {
   "cell_type": "code",
   "execution_count": 22,
   "metadata": {
    "cell_style": "split"
   },
   "outputs": [
    {
     "data": {
      "text/html": [
       "<div>\n",
       "<style scoped>\n",
       "    .dataframe tbody tr th:only-of-type {\n",
       "        vertical-align: middle;\n",
       "    }\n",
       "\n",
       "    .dataframe tbody tr th {\n",
       "        vertical-align: top;\n",
       "    }\n",
       "\n",
       "    .dataframe thead th {\n",
       "        text-align: right;\n",
       "    }\n",
       "</style>\n",
       "<table border=\"1\" class=\"dataframe\">\n",
       "  <thead>\n",
       "    <tr style=\"text-align: right;\">\n",
       "      <th></th>\n",
       "      <th>ad_statistic</th>\n",
       "      <th>critical_values</th>\n",
       "      <th>significance</th>\n",
       "    </tr>\n",
       "  </thead>\n",
       "  <tbody>\n",
       "    <tr>\n",
       "      <th>expon</th>\n",
       "      <td>418.381256</td>\n",
       "      <td>[0.576, 0.656, 0.787, 0.918, 1.092]</td>\n",
       "      <td>[15.0, 10.0, 5.0, 2.5, 1.0]</td>\n",
       "    </tr>\n",
       "    <tr>\n",
       "      <th>gamma</th>\n",
       "      <td>95.653903</td>\n",
       "      <td>[0.576, 0.656, 0.787, 0.918, 1.092]</td>\n",
       "      <td>[15.0, 10.0, 5.0, 2.5, 1.0]</td>\n",
       "    </tr>\n",
       "    <tr>\n",
       "      <th>lognorm</th>\n",
       "      <td>72.717192</td>\n",
       "      <td>[0.576, 0.656, 0.787, 0.918, 1.092]</td>\n",
       "      <td>[15.0, 10.0, 5.0, 2.5, 1.0]</td>\n",
       "    </tr>\n",
       "    <tr>\n",
       "      <th>pareto</th>\n",
       "      <td>721.705795</td>\n",
       "      <td>[0.576, 0.656, 0.787, 0.918, 1.092]</td>\n",
       "      <td>[15.0, 10.0, 5.0, 2.5, 1.0]</td>\n",
       "    </tr>\n",
       "    <tr>\n",
       "      <th>weibull_min</th>\n",
       "      <td>59.235395</td>\n",
       "      <td>[0.576, 0.656, 0.787, 0.918, 1.092]</td>\n",
       "      <td>[15.0, 10.0, 5.0, 2.5, 1.0]</td>\n",
       "    </tr>\n",
       "  </tbody>\n",
       "</table>\n",
       "</div>"
      ],
      "text/plain": [
       "             ad_statistic                      critical_values  \\\n",
       "expon          418.381256  [0.576, 0.656, 0.787, 0.918, 1.092]   \n",
       "gamma           95.653903  [0.576, 0.656, 0.787, 0.918, 1.092]   \n",
       "lognorm         72.717192  [0.576, 0.656, 0.787, 0.918, 1.092]   \n",
       "pareto         721.705795  [0.576, 0.656, 0.787, 0.918, 1.092]   \n",
       "weibull_min     59.235395  [0.576, 0.656, 0.787, 0.918, 1.092]   \n",
       "\n",
       "                            significance  \n",
       "expon        [15.0, 10.0, 5.0, 2.5, 1.0]  \n",
       "gamma        [15.0, 10.0, 5.0, 2.5, 1.0]  \n",
       "lognorm      [15.0, 10.0, 5.0, 2.5, 1.0]  \n",
       "pareto       [15.0, 10.0, 5.0, 2.5, 1.0]  \n",
       "weibull_min  [15.0, 10.0, 5.0, 2.5, 1.0]  "
      ]
     },
     "execution_count": 22,
     "metadata": {},
     "output_type": "execute_result"
    }
   ],
   "source": [
    "get_ad_results(log_sev_dists, log_severity)"
   ]
  },
  {
   "cell_type": "code",
   "execution_count": 23,
   "metadata": {
    "cell_style": "split"
   },
   "outputs": [
    {
     "data": {
      "text/html": [
       "<div>\n",
       "<style scoped>\n",
       "    .dataframe tbody tr th:only-of-type {\n",
       "        vertical-align: middle;\n",
       "    }\n",
       "\n",
       "    .dataframe tbody tr th {\n",
       "        vertical-align: top;\n",
       "    }\n",
       "\n",
       "    .dataframe thead th {\n",
       "        text-align: right;\n",
       "    }\n",
       "</style>\n",
       "<table border=\"1\" class=\"dataframe\">\n",
       "  <thead>\n",
       "    <tr style=\"text-align: right;\">\n",
       "      <th></th>\n",
       "      <th>ad_statistic</th>\n",
       "      <th>critical_values</th>\n",
       "      <th>significance</th>\n",
       "    </tr>\n",
       "  </thead>\n",
       "  <tbody>\n",
       "    <tr>\n",
       "      <th>expon</th>\n",
       "      <td>422.305741</td>\n",
       "      <td>[0.576, 0.656, 0.787, 0.918, 1.092]</td>\n",
       "      <td>[15.0, 10.0, 5.0, 2.5, 1.0]</td>\n",
       "    </tr>\n",
       "    <tr>\n",
       "      <th>gamma</th>\n",
       "      <td>28.645175</td>\n",
       "      <td>[0.576, 0.656, 0.787, 0.918, 1.092]</td>\n",
       "      <td>[15.0, 10.0, 5.0, 2.5, 1.0]</td>\n",
       "    </tr>\n",
       "    <tr>\n",
       "      <th>lognorm</th>\n",
       "      <td>29.934748</td>\n",
       "      <td>[0.576, 0.656, 0.787, 0.918, 1.092]</td>\n",
       "      <td>[15.0, 10.0, 5.0, 2.5, 1.0]</td>\n",
       "    </tr>\n",
       "    <tr>\n",
       "      <th>pareto</th>\n",
       "      <td>552.469632</td>\n",
       "      <td>[0.576, 0.656, 0.787, 0.918, 1.092]</td>\n",
       "      <td>[15.0, 10.0, 5.0, 2.5, 1.0]</td>\n",
       "    </tr>\n",
       "    <tr>\n",
       "      <th>weibull_min</th>\n",
       "      <td>36.434227</td>\n",
       "      <td>[0.576, 0.656, 0.787, 0.918, 1.092]</td>\n",
       "      <td>[15.0, 10.0, 5.0, 2.5, 1.0]</td>\n",
       "    </tr>\n",
       "  </tbody>\n",
       "</table>\n",
       "</div>"
      ],
      "text/plain": [
       "             ad_statistic                      critical_values  \\\n",
       "expon          422.305741  [0.576, 0.656, 0.787, 0.918, 1.092]   \n",
       "gamma           28.645175  [0.576, 0.656, 0.787, 0.918, 1.092]   \n",
       "lognorm         29.934748  [0.576, 0.656, 0.787, 0.918, 1.092]   \n",
       "pareto         552.469632  [0.576, 0.656, 0.787, 0.918, 1.092]   \n",
       "weibull_min     36.434227  [0.576, 0.656, 0.787, 0.918, 1.092]   \n",
       "\n",
       "                            significance  \n",
       "expon        [15.0, 10.0, 5.0, 2.5, 1.0]  \n",
       "gamma        [15.0, 10.0, 5.0, 2.5, 1.0]  \n",
       "lognorm      [15.0, 10.0, 5.0, 2.5, 1.0]  \n",
       "pareto       [15.0, 10.0, 5.0, 2.5, 1.0]  \n",
       "weibull_min  [15.0, 10.0, 5.0, 2.5, 1.0]  "
      ]
     },
     "execution_count": 23,
     "metadata": {},
     "output_type": "execute_result"
    }
   ],
   "source": [
    "get_ad_results(log_log_sev_dists, log_log_severity)"
   ]
  },
  {
   "cell_type": "markdown",
   "metadata": {},
   "source": [
    "From scipy's documentation:\n",
    "\n",
    "*If the returned statistic is larger than these critical values then for the corresponding significance level, the null hypothesis that the data come from the chosen distribution can be rejected. The returned statistic is referred to as ‘A2’ in the references.*"
   ]
  },
  {
   "cell_type": "markdown",
   "metadata": {},
   "source": [
    "### Conclusion"
   ]
  },
  {
   "cell_type": "code",
   "execution_count": 24,
   "metadata": {
    "cell_style": "split"
   },
   "outputs": [
    {
     "data": {
      "text/html": [
       "<div>\n",
       "<style scoped>\n",
       "    .dataframe tbody tr th:only-of-type {\n",
       "        vertical-align: middle;\n",
       "    }\n",
       "\n",
       "    .dataframe tbody tr th {\n",
       "        vertical-align: top;\n",
       "    }\n",
       "\n",
       "    .dataframe thead th {\n",
       "        text-align: right;\n",
       "    }\n",
       "</style>\n",
       "<table border=\"1\" class=\"dataframe\">\n",
       "  <thead>\n",
       "    <tr style=\"text-align: right;\">\n",
       "      <th></th>\n",
       "      <th>ks_statistic</th>\n",
       "      <th>p-value</th>\n",
       "    </tr>\n",
       "  </thead>\n",
       "  <tbody>\n",
       "    <tr>\n",
       "      <th>pareto</th>\n",
       "      <td>0.235643</td>\n",
       "      <td>0.000000e+00</td>\n",
       "    </tr>\n",
       "    <tr>\n",
       "      <th>expon</th>\n",
       "      <td>0.215955</td>\n",
       "      <td>0.000000e+00</td>\n",
       "    </tr>\n",
       "    <tr>\n",
       "      <th>lognorm</th>\n",
       "      <td>0.057427</td>\n",
       "      <td>1.369231e-26</td>\n",
       "    </tr>\n",
       "    <tr>\n",
       "      <th>gamma</th>\n",
       "      <td>0.055819</td>\n",
       "      <td>3.819232e-25</td>\n",
       "    </tr>\n",
       "    <tr>\n",
       "      <th>weibull_min</th>\n",
       "      <td>0.049168</td>\n",
       "      <td>1.323333e-19</td>\n",
       "    </tr>\n",
       "  </tbody>\n",
       "</table>\n",
       "</div>"
      ],
      "text/plain": [
       "             ks_statistic       p-value\n",
       "pareto           0.235643  0.000000e+00\n",
       "expon            0.215955  0.000000e+00\n",
       "lognorm          0.057427  1.369231e-26\n",
       "gamma            0.055819  3.819232e-25\n",
       "weibull_min      0.049168  1.323333e-19"
      ]
     },
     "execution_count": 24,
     "metadata": {},
     "output_type": "execute_result"
    }
   ],
   "source": [
    "get_ks_results(log_sev_dists, log_severity).sort_values('ks_statistic', ascending=False)"
   ]
  },
  {
   "cell_type": "code",
   "execution_count": 25,
   "metadata": {
    "cell_style": "split"
   },
   "outputs": [
    {
     "data": {
      "text/html": [
       "<div>\n",
       "<style scoped>\n",
       "    .dataframe tbody tr th:only-of-type {\n",
       "        vertical-align: middle;\n",
       "    }\n",
       "\n",
       "    .dataframe tbody tr th {\n",
       "        vertical-align: top;\n",
       "    }\n",
       "\n",
       "    .dataframe thead th {\n",
       "        text-align: right;\n",
       "    }\n",
       "</style>\n",
       "<table border=\"1\" class=\"dataframe\">\n",
       "  <thead>\n",
       "    <tr style=\"text-align: right;\">\n",
       "      <th></th>\n",
       "      <th>ks_statistic</th>\n",
       "      <th>p-value</th>\n",
       "    </tr>\n",
       "  </thead>\n",
       "  <tbody>\n",
       "    <tr>\n",
       "      <th>pareto</th>\n",
       "      <td>0.245890</td>\n",
       "      <td>0.000000e+00</td>\n",
       "    </tr>\n",
       "    <tr>\n",
       "      <th>expon</th>\n",
       "      <td>0.235700</td>\n",
       "      <td>0.000000e+00</td>\n",
       "    </tr>\n",
       "    <tr>\n",
       "      <th>gamma</th>\n",
       "      <td>0.057889</td>\n",
       "      <td>5.179531e-27</td>\n",
       "    </tr>\n",
       "    <tr>\n",
       "      <th>lognorm</th>\n",
       "      <td>0.057456</td>\n",
       "      <td>1.290155e-26</td>\n",
       "    </tr>\n",
       "    <tr>\n",
       "      <th>weibull_min</th>\n",
       "      <td>0.054177</td>\n",
       "      <td>1.034831e-23</td>\n",
       "    </tr>\n",
       "  </tbody>\n",
       "</table>\n",
       "</div>"
      ],
      "text/plain": [
       "             ks_statistic       p-value\n",
       "pareto           0.245890  0.000000e+00\n",
       "expon            0.235700  0.000000e+00\n",
       "gamma            0.057889  5.179531e-27\n",
       "lognorm          0.057456  1.290155e-26\n",
       "weibull_min      0.054177  1.034831e-23"
      ]
     },
     "execution_count": 25,
     "metadata": {},
     "output_type": "execute_result"
    }
   ],
   "source": [
    "get_ks_results(log_log_sev_dists, log_log_severity).sort_values('ks_statistic', ascending=False)"
   ]
  },
  {
   "cell_type": "markdown",
   "metadata": {},
   "source": [
    "weibull_min has lowest scores for both KS log_severity and log_log_severity and though both hypotheses tests reject the hypothesis that the data comes from an weibull_min distribution, it is the distribution that has the best fit for our data."
   ]
  },
  {
   "cell_type": "markdown",
   "metadata": {},
   "source": [
    "# Finding better distributions"
   ]
  },
  {
   "cell_type": "markdown",
   "metadata": {},
   "source": [
    "Since the p-value scores are very low for the proposed distributions, let's explore fitting all distributions available in scipy.stats and check if there are other distributions that are better fits"
   ]
  },
  {
   "cell_type": "code",
   "execution_count": 26,
   "metadata": {},
   "outputs": [],
   "source": [
    "from scipy.stats._continuous_distns import _distn_names\n",
    "\n",
    "# Levy Stable takes a really long time to compute, remove it\n",
    "all_dists = [d for d in _distn_names if d != 'levy_stable'] "
   ]
  },
  {
   "cell_type": "markdown",
   "metadata": {},
   "source": [
    "As fitting and plotting all possible distributions would result in a very messy plot, I changed the code above to plot only the top n distributions according to those with largest p-value for the KS-Test"
   ]
  },
  {
   "cell_type": "code",
   "execution_count": 27,
   "metadata": {},
   "outputs": [],
   "source": [
    "def plot_distns(dataset, frozen_dists, title):\n",
    "    fig, (cdf_ax, pdf_ax) = plt.subplots(figsize=(14,6), nrows=1, ncols=2)\n",
    "    x_min, x_max = dataset.min(), dataset.max()\n",
    "    x = np.linspace(x_min, x_max, 100)\n",
    "    cm = cmap.get_cmap('Dark2' ,len(distributions))\n",
    "    colors = cm(range(len(distributions)))\n",
    "    \n",
    "    ecdf = ECDF(dataset)\n",
    "    cdf_ax.plot(ecdf.x, ecdf.y, c='r', label=title)\n",
    "    pdf_ax.hist(dataset, color='r', density=True, alpha=0.3)\n",
    "    \n",
    "    for (name, frozen_dist), color in zip(frozen_dists.items(), colors):        \n",
    "        cdf_ax.plot(x, frozen_dist.cdf(x), c=color, label=name)\n",
    "        pdf_ax.plot(x, frozen_dist.pdf(x), c=color ,label=name)\n",
    "\n",
    "    cdf_ax.set_ylabel('cdf')\n",
    "    cdf_ax.set_title(f'Empirical CDF for {title}')\n",
    "    cdf_ax.legend(loc='best', frameon=False)\n",
    "    \n",
    "    pdf_ax.set_ylabel('pdf')\n",
    "    pdf_ax.set_title(f'Distribution fits for {title}')\n",
    "    pdf_ax.legend(loc='best', frameon=False)\n",
    "    return plt\n",
    "\n",
    "def create_ks_df(dataset, frozen_dists, sort_val=['p-value'], asc=False):\n",
    "    results = {'ks_statistic':[], 'p-value':[]}\n",
    "    idx = []\n",
    "    for name, dist in frozen_dists.items():\n",
    "        idx.append(name)\n",
    "        ks = kstest(dataset, name, args=dist.args)\n",
    "        results['ks_statistic'].append(ks[0])\n",
    "        results['p-value'].append(ks[1])\n",
    "    return pd.DataFrame(results, index=idx).sort_values(sort_val, ascending=asc)\n",
    "\n",
    "def create_parameter_df(dataset, frozen_dists, sort_val=['aic'], asc=True):\n",
    "    params = {'llf':[] ,'aic':[], 'bic':[]}\n",
    "    idx = []\n",
    "    for name, dist in frozen_dists.items():\n",
    "        params['llf'].append(llf(dist, dataset))\n",
    "        params['aic'].append(aic(dist, dataset))\n",
    "        params['bic'].append(bic(dist, dataset))\n",
    "        idx.append(name)\n",
    "    return pd.DataFrame(params, index=idx).sort_values(sort_val, ascending=False)\n",
    "\n",
    "def top_names(df, colname, n=5):\n",
    "    not_na = df[df[colname].notna()]\n",
    "    return not_na.iloc[:n, :].index.tolist()\n",
    "\n",
    "def filter_top_distns(ks_names, param_names, frozen_dists, n=5):\n",
    "    top_names = set(ks_names + param_names)\n",
    "    return {k:v for k,v in frozen_dists.items() if k in top_names}\n",
    "\n",
    "def fit_distns(dataset, title, distributions=distributions, n=5, top_only=True):\n",
    "    frozen_dists = {}\n",
    "    with warnings.catch_warnings():\n",
    "        warnings.simplefilter('ignore')\n",
    "        for name in distributions:\n",
    "            dist = getattr(stats, name)\n",
    "            print(f'Now fitting:', name)\n",
    "            start_fit = time.time()\n",
    "            params = dist.fit(dataset)\n",
    "            print(f'Done in {(time.time()-start_fit):.2f} seconds\\n')\n",
    "            frozen_dists[name] = dist(*params)\n",
    "    \n",
    "    ks_df = create_ks_df(dataset, frozen_dists)\n",
    "    ks_names = top_names(ks_df, 'p-value')\n",
    "    param_df = create_parameter_df(dataset, frozen_dists)\n",
    "    param_names = top_names(param_df, 'aic')\n",
    "    \n",
    "    top_distns = filter_top_distns(ks_names, param_names, frozen_dists)\n",
    "    plot_distns(dataset, top_distns, title).show()\n",
    "    \n",
    "    if top_only:\n",
    "        return top_distns, ks_df, param_df\n",
    "    else:\n",
    "        return frozen_dists, ks_df, param_df"
   ]
  },
  {
   "cell_type": "code",
   "execution_count": 28,
   "metadata": {
    "scrolled": true
   },
   "outputs": [
    {
     "name": "stdout",
     "output_type": "stream",
     "text": [
      "Now fitting: ksone\n",
      "Done in 1.64 seconds\n",
      "\n",
      "Now fitting: kstwobign\n",
      "Done in 0.21 seconds\n",
      "\n",
      "Now fitting: norm\n",
      "Done in 0.00 seconds\n",
      "\n",
      "Now fitting: alpha\n",
      "Done in 0.16 seconds\n",
      "\n",
      "Now fitting: anglit\n",
      "Done in 0.06 seconds\n",
      "\n",
      "Now fitting: arcsine\n",
      "Done in 0.15 seconds\n",
      "\n",
      "Now fitting: beta\n",
      "Done in 0.17 seconds\n",
      "\n",
      "Now fitting: betaprime\n",
      "Done in 0.36 seconds\n",
      "\n",
      "Now fitting: bradford\n",
      "Done in 0.20 seconds\n",
      "\n",
      "Now fitting: burr\n",
      "Done in 1.54 seconds\n",
      "\n",
      "Now fitting: burr12\n",
      "Done in 0.48 seconds\n",
      "\n",
      "Now fitting: fisk\n",
      "Done in 0.76 seconds\n",
      "\n",
      "Now fitting: cauchy\n",
      "Done in 0.02 seconds\n",
      "\n",
      "Now fitting: chi\n",
      "Done in 0.08 seconds\n",
      "\n",
      "Now fitting: chi2\n",
      "Done in 0.10 seconds\n",
      "\n",
      "Now fitting: cosine\n",
      "Done in 0.04 seconds\n",
      "\n",
      "Now fitting: dgamma\n",
      "Done in 0.06 seconds\n",
      "\n",
      "Now fitting: dweibull\n",
      "Done in 0.13 seconds\n",
      "\n",
      "Now fitting: expon\n",
      "Done in 0.00 seconds\n",
      "\n",
      "Now fitting: exponnorm\n",
      "Done in 0.06 seconds\n",
      "\n",
      "Now fitting: exponweib\n",
      "Done in 1.07 seconds\n",
      "\n",
      "Now fitting: exponpow\n",
      "Done in 0.75 seconds\n",
      "\n",
      "Now fitting: fatiguelife\n",
      "Done in 0.13 seconds\n",
      "\n",
      "Now fitting: foldcauchy\n",
      "Done in 0.22 seconds\n",
      "\n",
      "Now fitting: f\n",
      "Done in 0.43 seconds\n",
      "\n",
      "Now fitting: foldnorm\n",
      "Done in 0.17 seconds\n",
      "\n",
      "Now fitting: weibull_min\n",
      "Done in 0.18 seconds\n",
      "\n",
      "Now fitting: weibull_max\n",
      "Done in 0.30 seconds\n",
      "\n",
      "Now fitting: frechet_r\n",
      "Done in 0.18 seconds\n",
      "\n",
      "Now fitting: frechet_l\n",
      "Done in 0.29 seconds\n",
      "\n",
      "Now fitting: genlogistic\n",
      "Done in 0.20 seconds\n",
      "\n",
      "Now fitting: genpareto\n",
      "Done in 0.22 seconds\n",
      "\n",
      "Now fitting: genexpon\n",
      "Done in 1.96 seconds\n",
      "\n",
      "Now fitting: genextreme\n",
      "Done in 0.13 seconds\n",
      "\n",
      "Now fitting: gamma\n",
      "Done in 0.09 seconds\n",
      "\n",
      "Now fitting: erlang\n",
      "Done in 0.08 seconds\n",
      "\n",
      "Now fitting: gengamma\n",
      "Done in 0.72 seconds\n",
      "\n",
      "Now fitting: genhalflogistic\n",
      "Done in 0.39 seconds\n",
      "\n",
      "Now fitting: gompertz\n",
      "Done in 0.15 seconds\n",
      "\n",
      "Now fitting: gumbel_r\n",
      "Done in 0.01 seconds\n",
      "\n",
      "Now fitting: gumbel_l\n",
      "Done in 0.02 seconds\n",
      "\n",
      "Now fitting: halfcauchy\n",
      "Done in 0.09 seconds\n",
      "\n",
      "Now fitting: halflogistic\n",
      "Done in 0.05 seconds\n",
      "\n",
      "Now fitting: halfnorm\n",
      "Done in 0.02 seconds\n",
      "\n",
      "Now fitting: hypsecant\n",
      "Done in 0.02 seconds\n",
      "\n",
      "Now fitting: gausshyper\n",
      "Done in 2.34 seconds\n",
      "\n",
      "Now fitting: invgamma\n",
      "Done in 0.19 seconds\n",
      "\n",
      "Now fitting: invgauss\n",
      "Done in 0.17 seconds\n",
      "\n",
      "Now fitting: norminvgauss\n",
      "Done in 0.86 seconds\n",
      "\n",
      "Now fitting: invweibull\n",
      "Done in 0.83 seconds\n",
      "\n",
      "Now fitting: johnsonsb\n",
      "Done in 0.33 seconds\n",
      "\n",
      "Now fitting: johnsonsu\n",
      "Done in 0.83 seconds\n",
      "\n",
      "Now fitting: laplace\n",
      "Done in 0.03 seconds\n",
      "\n",
      "Now fitting: levy\n",
      "Done in 0.08 seconds\n",
      "\n",
      "Now fitting: levy_l\n",
      "Done in 0.04 seconds\n",
      "\n",
      "Now fitting: logistic\n",
      "Done in 0.02 seconds\n",
      "\n",
      "Now fitting: loggamma\n",
      "Done in 0.34 seconds\n",
      "\n",
      "Now fitting: loglaplace\n",
      "Done in 0.45 seconds\n",
      "\n",
      "Now fitting: lognorm\n",
      "Done in 0.19 seconds\n",
      "\n",
      "Now fitting: gilbrat\n",
      "Done in 0.08 seconds\n",
      "\n",
      "Now fitting: maxwell\n",
      "Done in 0.03 seconds\n",
      "\n",
      "Now fitting: mielke\n",
      "Done in 1.93 seconds\n",
      "\n",
      "Now fitting: kappa4\n",
      "Done in 1.69 seconds\n",
      "\n",
      "Now fitting: kappa3\n",
      "Done in 0.62 seconds\n",
      "\n",
      "Now fitting: moyal\n",
      "Done in 0.03 seconds\n",
      "\n",
      "Now fitting: nakagami\n",
      "Done in 0.10 seconds\n",
      "\n",
      "Now fitting: ncx2\n",
      "Done in 9.65 seconds\n",
      "\n",
      "Now fitting: ncf\n",
      "Done in 25.64 seconds\n",
      "\n",
      "Now fitting: t\n",
      "Done in 0.16 seconds\n",
      "\n",
      "Now fitting: nct\n",
      "Done in 29.57 seconds\n",
      "\n",
      "Now fitting: pareto\n",
      "Done in 0.25 seconds\n",
      "\n",
      "Now fitting: lomax\n",
      "Done in 0.15 seconds\n",
      "\n",
      "Now fitting: pearson3\n",
      "Done in 0.09 seconds\n",
      "\n",
      "Now fitting: powerlaw\n",
      "Done in 0.23 seconds\n",
      "\n",
      "Now fitting: powerlognorm\n",
      "Done in 1.61 seconds\n",
      "\n",
      "Now fitting: powernorm\n",
      "Done in 0.69 seconds\n",
      "\n",
      "Now fitting: rdist\n",
      "Done in 0.60 seconds\n",
      "\n",
      "Now fitting: rayleigh\n",
      "Done in 0.02 seconds\n",
      "\n",
      "Now fitting: reciprocal\n",
      "Done in 0.08 seconds\n",
      "\n",
      "Now fitting: rice\n",
      "Done in 0.58 seconds\n",
      "\n",
      "Now fitting: recipinvgauss\n",
      "Done in 2.50 seconds\n",
      "\n",
      "Now fitting: semicircular\n",
      "Done in 0.03 seconds\n",
      "\n",
      "Now fitting: skewnorm\n",
      "Done in 0.11 seconds\n",
      "\n",
      "Now fitting: trapz\n",
      "Done in 0.26 seconds\n",
      "\n",
      "Now fitting: triang\n",
      "Done in 0.25 seconds\n",
      "\n",
      "Now fitting: truncexpon\n",
      "Done in 0.04 seconds\n",
      "\n",
      "Now fitting: truncnorm\n",
      "Done in 0.10 seconds\n",
      "\n",
      "Now fitting: tukeylambda\n",
      "Done in 26.56 seconds\n",
      "\n",
      "Now fitting: uniform\n",
      "Done in 0.00 seconds\n",
      "\n",
      "Now fitting: vonmises\n",
      "Done in 0.99 seconds\n",
      "\n",
      "Now fitting: vonmises_line\n",
      "Done in 0.84 seconds\n",
      "\n",
      "Now fitting: wald\n",
      "Done in 0.03 seconds\n",
      "\n",
      "Now fitting: wrapcauchy\n",
      "Done in 0.01 seconds\n",
      "\n",
      "Now fitting: gennorm\n",
      "Done in 0.09 seconds\n",
      "\n",
      "Now fitting: halfgennorm\n",
      "Done in 0.45 seconds\n",
      "\n",
      "Now fitting: crystalball\n",
      "Done in 0.24 seconds\n",
      "\n",
      "Now fitting: argus\n",
      "Done in 1.17 seconds\n",
      "\n"
     ]
    },
    {
     "name": "stderr",
     "output_type": "stream",
     "text": [
      "/home/carlos/.local/lib/python3.6/site-packages/scipy/stats/_continuous_distns.py:82: RuntimeWarning: floating point number truncated to an integer\n",
      "  return scu._smirnovc(n, x)\n",
      "/home/carlos/.local/lib/python3.6/site-packages/scipy/stats/_continuous_distns.py:2688: RuntimeWarning: The shape parameter of the erlang distribution has been given a non-integer value array(4.41655003).\n",
      "  RuntimeWarning)\n",
      "/home/carlos/.local/lib/python3.6/site-packages/scipy/stats/_continuous_distns.py:79: RuntimeWarning: floating point number truncated to an integer\n",
      "  return -scu._smirnovp(n, x)\n"
     ]
    },
    {
     "data": {
      "image/png": "[encoded data removed]",
      "text/plain": [
       "<Figure size 1008x432 with 2 Axes>"
      ]
     },
     "metadata": {
      "needs_background": "light"
     },
     "output_type": "display_data"
    }
   ],
   "source": [
    "fitted, ks_df, param_df = fit_distns(log_severity, 'log_severity', all_dists)"
   ]
  },
  {
   "cell_type": "markdown",
   "metadata": {},
   "source": [
    "Remove some false positives"
   ]
  },
  {
   "cell_type": "code",
   "execution_count": 29,
   "metadata": {},
   "outputs": [],
   "source": [
    "exclude = ['genpareto', 'levy_l', 'truncnorm', 'reciprocal', 'lomax']\n",
    "for e in exclude:\n",
    "    del fitted[e]"
   ]
  },
  {
   "cell_type": "markdown",
   "metadata": {},
   "source": [
    "When plotted, genpaerto and levy_l show cdfs and pdfs which clearly do not follow the distribution of the data and truncnorm, and reciprocal yielded nan values for AIC. lomax had p-value of zero (meaning floating point precision was not small enough)"
   ]
  },
  {
   "cell_type": "code",
   "execution_count": 30,
   "metadata": {},
   "outputs": [
    {
     "data": {
      "image/png": "[encoded data removed]",
      "text/plain": [
       "<Figure size 1008x432 with 2 Axes>"
      ]
     },
     "metadata": {
      "needs_background": "light"
     },
     "output_type": "display_data"
    }
   ],
   "source": [
    "plot_distns(log_severity, fitted, 'log_severity').show()"
   ]
  },
  {
   "cell_type": "code",
   "execution_count": 31,
   "metadata": {},
   "outputs": [
    {
     "data": {
      "text/html": [
       "<div>\n",
       "<style scoped>\n",
       "    .dataframe tbody tr th:only-of-type {\n",
       "        vertical-align: middle;\n",
       "    }\n",
       "\n",
       "    .dataframe tbody tr th {\n",
       "        vertical-align: top;\n",
       "    }\n",
       "\n",
       "    .dataframe thead th {\n",
       "        text-align: right;\n",
       "    }\n",
       "</style>\n",
       "<table border=\"1\" class=\"dataframe\">\n",
       "  <thead>\n",
       "    <tr style=\"text-align: right;\">\n",
       "      <th></th>\n",
       "      <th>ks_statistic</th>\n",
       "      <th>p-value</th>\n",
       "    </tr>\n",
       "  </thead>\n",
       "  <tbody>\n",
       "    <tr>\n",
       "      <th>nakagami</th>\n",
       "      <td>0.046216</td>\n",
       "      <td>2.267947e-17</td>\n",
       "    </tr>\n",
       "    <tr>\n",
       "      <th>norminvgauss</th>\n",
       "      <td>0.044910</td>\n",
       "      <td>1.992652e-16</td>\n",
       "    </tr>\n",
       "    <tr>\n",
       "      <th>exponweib</th>\n",
       "      <td>0.044495</td>\n",
       "      <td>3.923315e-16</td>\n",
       "    </tr>\n",
       "    <tr>\n",
       "      <th>gengamma</th>\n",
       "      <td>0.044482</td>\n",
       "      <td>4.010476e-16</td>\n",
       "    </tr>\n",
       "    <tr>\n",
       "      <th>betaprime</th>\n",
       "      <td>0.043167</td>\n",
       "      <td>3.294211e-15</td>\n",
       "    </tr>\n",
       "  </tbody>\n",
       "</table>\n",
       "</div>"
      ],
      "text/plain": [
       "              ks_statistic       p-value\n",
       "nakagami          0.046216  2.267947e-17\n",
       "norminvgauss      0.044910  1.992652e-16\n",
       "exponweib         0.044495  3.923315e-16\n",
       "gengamma          0.044482  4.010476e-16\n",
       "betaprime         0.043167  3.294211e-15"
      ]
     },
     "execution_count": 31,
     "metadata": {},
     "output_type": "execute_result"
    }
   ],
   "source": [
    "ks_df.loc[fitted.keys(), :].sort_values('p-value')"
   ]
  },
  {
   "cell_type": "code",
   "execution_count": 32,
   "metadata": {},
   "outputs": [
    {
     "data": {
      "text/html": [
       "<div>\n",
       "<style scoped>\n",
       "    .dataframe tbody tr th:only-of-type {\n",
       "        vertical-align: middle;\n",
       "    }\n",
       "\n",
       "    .dataframe tbody tr th {\n",
       "        vertical-align: top;\n",
       "    }\n",
       "\n",
       "    .dataframe thead th {\n",
       "        text-align: right;\n",
       "    }\n",
       "</style>\n",
       "<table border=\"1\" class=\"dataframe\">\n",
       "  <thead>\n",
       "    <tr style=\"text-align: right;\">\n",
       "      <th></th>\n",
       "      <th>llf</th>\n",
       "      <th>aic</th>\n",
       "      <th>bic</th>\n",
       "    </tr>\n",
       "  </thead>\n",
       "  <tbody>\n",
       "    <tr>\n",
       "      <th>gengamma</th>\n",
       "      <td>-8529.262290</td>\n",
       "      <td>17066.524579</td>\n",
       "      <td>17095.003615</td>\n",
       "    </tr>\n",
       "    <tr>\n",
       "      <th>exponweib</th>\n",
       "      <td>-8529.403761</td>\n",
       "      <td>17066.807523</td>\n",
       "      <td>17095.286559</td>\n",
       "    </tr>\n",
       "    <tr>\n",
       "      <th>nakagami</th>\n",
       "      <td>-8533.701022</td>\n",
       "      <td>17073.402045</td>\n",
       "      <td>17094.761322</td>\n",
       "    </tr>\n",
       "    <tr>\n",
       "      <th>norminvgauss</th>\n",
       "      <td>-8881.623874</td>\n",
       "      <td>17771.247747</td>\n",
       "      <td>17799.726783</td>\n",
       "    </tr>\n",
       "    <tr>\n",
       "      <th>betaprime</th>\n",
       "      <td>-8905.221271</td>\n",
       "      <td>17818.442542</td>\n",
       "      <td>17846.921578</td>\n",
       "    </tr>\n",
       "  </tbody>\n",
       "</table>\n",
       "</div>"
      ],
      "text/plain": [
       "                      llf           aic           bic\n",
       "gengamma     -8529.262290  17066.524579  17095.003615\n",
       "exponweib    -8529.403761  17066.807523  17095.286559\n",
       "nakagami     -8533.701022  17073.402045  17094.761322\n",
       "norminvgauss -8881.623874  17771.247747  17799.726783\n",
       "betaprime    -8905.221271  17818.442542  17846.921578"
      ]
     },
     "execution_count": 32,
     "metadata": {},
     "output_type": "execute_result"
    }
   ],
   "source": [
    "param_df.loc[fitted.keys(), :].sort_values(['aic'])"
   ]
  },
  {
   "cell_type": "markdown",
   "metadata": {},
   "source": [
    "Looks like our initial fit wasn't too far from the mark, with exponweib appearing near the top distributions. Yet, for all distributions, we reject the null hypotheses and conclude that the data does not come from any of these distributions."
   ]
  },
  {
   "cell_type": "markdown",
   "metadata": {},
   "source": [
    "# Putting it in practice"
   ]
  },
  {
   "cell_type": "markdown",
   "metadata": {},
   "source": [
    "Despite the results above, let's take the top distributions and put them into practice by creating an estimate for the total claim severity in some time period."
   ]
  },
  {
   "cell_type": "markdown",
   "metadata": {},
   "source": [
    "I don't know what are the period the claims took places and we don't have a distribution of claim count for that period. Let's assume that for the next period, we got the same number of claims.\n",
    "\n",
    "We can use this to sample from the fitted distributions and calculate the total severity incurred for the next period."
   ]
  },
  {
   "cell_type": "code",
   "execution_count": 33,
   "metadata": {},
   "outputs": [
    {
     "data": {
      "text/plain": [
       "9134"
      ]
     },
     "execution_count": 33,
     "metadata": {},
     "output_type": "execute_result"
    }
   ],
   "source": [
    "claim_count = len(auto_claims)\n",
    "claim_count"
   ]
  },
  {
   "cell_type": "code",
   "execution_count": 50,
   "metadata": {},
   "outputs": [],
   "source": [
    "def plot_severity_estimates(df):\n",
    "    fig, ax = plt.subplots(figsize=(12,7))\n",
    "    ax.boxplot(df.to_numpy(), labels=df.columns)\n",
    "    plt.show()\n",
    "    \n",
    "def mc_sampling(fitted, claim_count=claim_count, n=1000):\n",
    "    temp = {}\n",
    "    for name, frozen_dist in fitted.items():\n",
    "        temp[name] = [np.exp(frozen_dist.rvs(size=claim_count)).sum() \n",
    "                      for i in range(n)]\n",
    "    df = pd.DataFrame(temp).reset_index(drop=True)\n",
    "    plot_severity_estimates(df)\n",
    "    return df"
   ]
  },
  {
   "cell_type": "code",
   "execution_count": 51,
   "metadata": {},
   "outputs": [
    {
     "data": {
      "image/png": "[encoded data removed]",
      "text/plain": [
       "<Figure size 864x504 with 1 Axes>"
      ]
     },
     "metadata": {},
     "output_type": "display_data"
    }
   ],
   "source": [
    "df = mc_sampling(fitted) "
   ]
  },
  {
   "cell_type": "code",
   "execution_count": 36,
   "metadata": {},
   "outputs": [
    {
     "data": {
      "text/html": [
       "<div>\n",
       "<style scoped>\n",
       "    .dataframe tbody tr th:only-of-type {\n",
       "        vertical-align: middle;\n",
       "    }\n",
       "\n",
       "    .dataframe tbody tr th {\n",
       "        vertical-align: top;\n",
       "    }\n",
       "\n",
       "    .dataframe thead th {\n",
       "        text-align: right;\n",
       "    }\n",
       "</style>\n",
       "<table border=\"1\" class=\"dataframe\">\n",
       "  <thead>\n",
       "    <tr style=\"text-align: right;\">\n",
       "      <th></th>\n",
       "      <th>betaprime</th>\n",
       "      <th>exponweib</th>\n",
       "      <th>gengamma</th>\n",
       "      <th>norminvgauss</th>\n",
       "      <th>nakagami</th>\n",
       "    </tr>\n",
       "  </thead>\n",
       "  <tbody>\n",
       "    <tr>\n",
       "      <th>count</th>\n",
       "      <td>1.000000e+03</td>\n",
       "      <td>1.000000e+03</td>\n",
       "      <td>1.000000e+03</td>\n",
       "      <td>1.000000e+03</td>\n",
       "      <td>1.000000e+03</td>\n",
       "    </tr>\n",
       "    <tr>\n",
       "      <th>mean</th>\n",
       "      <td>7.176640e+06</td>\n",
       "      <td>7.320453e+06</td>\n",
       "      <td>7.320725e+06</td>\n",
       "      <td>7.163509e+06</td>\n",
       "      <td>7.363085e+06</td>\n",
       "    </tr>\n",
       "    <tr>\n",
       "      <th>std</th>\n",
       "      <td>6.281939e+04</td>\n",
       "      <td>6.819820e+04</td>\n",
       "      <td>6.871585e+04</td>\n",
       "      <td>6.052465e+04</td>\n",
       "      <td>7.548379e+04</td>\n",
       "    </tr>\n",
       "    <tr>\n",
       "      <th>min</th>\n",
       "      <td>6.968093e+06</td>\n",
       "      <td>7.071909e+06</td>\n",
       "      <td>7.092419e+06</td>\n",
       "      <td>6.970461e+06</td>\n",
       "      <td>7.148405e+06</td>\n",
       "    </tr>\n",
       "    <tr>\n",
       "      <th>25%</th>\n",
       "      <td>7.134291e+06</td>\n",
       "      <td>7.272832e+06</td>\n",
       "      <td>7.274658e+06</td>\n",
       "      <td>7.119789e+06</td>\n",
       "      <td>7.311877e+06</td>\n",
       "    </tr>\n",
       "    <tr>\n",
       "      <th>50%</th>\n",
       "      <td>7.173252e+06</td>\n",
       "      <td>7.318502e+06</td>\n",
       "      <td>7.319454e+06</td>\n",
       "      <td>7.161963e+06</td>\n",
       "      <td>7.363187e+06</td>\n",
       "    </tr>\n",
       "    <tr>\n",
       "      <th>75%</th>\n",
       "      <td>7.215496e+06</td>\n",
       "      <td>7.365009e+06</td>\n",
       "      <td>7.368117e+06</td>\n",
       "      <td>7.203838e+06</td>\n",
       "      <td>7.414438e+06</td>\n",
       "    </tr>\n",
       "    <tr>\n",
       "      <th>max</th>\n",
       "      <td>7.428835e+06</td>\n",
       "      <td>7.592792e+06</td>\n",
       "      <td>7.579478e+06</td>\n",
       "      <td>7.364886e+06</td>\n",
       "      <td>7.622038e+06</td>\n",
       "    </tr>\n",
       "  </tbody>\n",
       "</table>\n",
       "</div>"
      ],
      "text/plain": [
       "          betaprime     exponweib      gengamma  norminvgauss      nakagami\n",
       "count  1.000000e+03  1.000000e+03  1.000000e+03  1.000000e+03  1.000000e+03\n",
       "mean   7.176640e+06  7.320453e+06  7.320725e+06  7.163509e+06  7.363085e+06\n",
       "std    6.281939e+04  6.819820e+04  6.871585e+04  6.052465e+04  7.548379e+04\n",
       "min    6.968093e+06  7.071909e+06  7.092419e+06  6.970461e+06  7.148405e+06\n",
       "25%    7.134291e+06  7.272832e+06  7.274658e+06  7.119789e+06  7.311877e+06\n",
       "50%    7.173252e+06  7.318502e+06  7.319454e+06  7.161963e+06  7.363187e+06\n",
       "75%    7.215496e+06  7.365009e+06  7.368117e+06  7.203838e+06  7.414438e+06\n",
       "max    7.428835e+06  7.592792e+06  7.579478e+06  7.364886e+06  7.622038e+06"
      ]
     },
     "execution_count": 36,
     "metadata": {},
     "output_type": "execute_result"
    }
   ],
   "source": [
    "df.describe()"
   ]
  },
  {
   "cell_type": "markdown",
   "metadata": {},
   "source": [
    "The boxplots show statistics for the severity incurred by taking approx 9100 samples from each distribution 1000 times."
   ]
  },
  {
   "cell_type": "code",
   "execution_count": 37,
   "metadata": {},
   "outputs": [
    {
     "data": {
      "text/plain": [
       "7311712.6298532"
      ]
     },
     "execution_count": 37,
     "metadata": {},
     "output_type": "execute_result"
    }
   ],
   "source": [
    "auto_claims['Claim Amount'].sum()"
   ]
  },
  {
   "cell_type": "markdown",
   "metadata": {},
   "source": [
    "Next steps:\n",
    "\n",
    "* Once the above is done, can we compare it to a ML model that forecasts total cost of claims?"
   ]
  }
 ],
 "metadata": {
  "kernelspec": {
   "display_name": "Python 3",
   "language": "python",
   "name": "python3"
  },
  "language_info": {
   "codemirror_mode": {
    "name": "ipython",
    "version": 3
   },
   "file_extension": ".py",
   "mimetype": "text/x-python",
   "name": "python",
   "nbconvert_exporter": "python",
   "pygments_lexer": "ipython3",
   "version": "3.6.9"
  },
  "varInspector": {
   "cols": {
    "lenName": 16,
    "lenType": 16,
    "lenVar": 40
   },
   "kernels_config": {
    "python": {
     "delete_cmd_postfix": "",
     "delete_cmd_prefix": "del ",
     "library": "var_list.py",
     "varRefreshCmd": "print(var_dic_list())"
    },
    "r": {
     "delete_cmd_postfix": ") ",
     "delete_cmd_prefix": "rm(",
     "library": "var_list.r",
     "varRefreshCmd": "cat(var_dic_list()) "
    }
   },
   "types_to_exclude": [
    "module",
    "function",
    "builtin_function_or_method",
    "instance",
    "_Feature"
   ],
   "window_display": false
  }
 },
 "nbformat": 4,
 "nbformat_minor": 2
}
